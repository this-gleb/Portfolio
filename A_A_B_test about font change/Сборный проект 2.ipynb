{
 "cells": [
  {
   "cell_type": "markdown",
   "metadata": {},
   "source": [
    "# Проект: Исследование влияния изменения шрифта в приложении по продаже продуктов питания на конверсию в воронке продаж"
   ]
  },
  {
   "cell_type": "markdown",
   "metadata": {},
   "source": [
    "### 1. Описание проекта"
   ]
  },
  {
   "cell_type": "markdown",
   "metadata": {},
   "source": [
    "**Цель проекта:** Выяснить, повлияет ли изменение шрифтов во всем приложении по продаже продуктов питания на конверсию.\\\n",
    "**Задачи:**\n",
    "- Изучить воронку продаж приложения, выявить узкие места.\n",
    "- Исследовать результаты А/А/В эксперимента по изменению шрифта.\n",
    "\n",
    "**Данные:**\\\n",
    "logs_exp.csv - лог действий и событий в рамках А/А/В теста.\n",
    "\n",
    "**План анализа:**\n",
    "1) Подготовка данных: нормализуем названия столбцов, работаем с дубликатами и пропусками.\\\n",
    "2) Исследовательский анализ данных: рассмотрим сроки проведения эксперимента, число зафиксированных событий и пользователей.\\\n",
    "3) Проанализируем воронку событий, найдем узкие места, где теряется больше всего пользователей.\\\n",
    "4) Проанализируем результаты А/А/Б теста: сначала сравним А/А группы для проверки корректности разделения пользователей, а затем, в случае положительно результата, сравним тестовую группу с объединенной контрольной."
   ]
  },
  {
   "cell_type": "markdown",
   "metadata": {},
   "source": [
    "### 2. Подготовка данных"
   ]
  },
  {
   "cell_type": "code",
   "execution_count": 1,
   "metadata": {},
   "outputs": [],
   "source": [
    "# Импортируем библиотеки, которые будем в дальнейшем использовать в работе\n",
    "import pandas as pd\n",
    "from pandas.plotting import register_matplotlib_converters\n",
    "\n",
    "import datetime as dt\n",
    "\n",
    "import seaborn as sns\n",
    "\n",
    "from matplotlib import pyplot as plt\n",
    "from matplotlib.pyplot import figure\n",
    "\n",
    "import numpy as np\n",
    "\n",
    "from scipy import stats as st\n",
    "import math as mth"
   ]
  },
  {
   "cell_type": "markdown",
   "metadata": {},
   "source": [
    "#### 2.1. Загрузим данные и сделаем предобработку"
   ]
  },
  {
   "cell_type": "code",
   "execution_count": 2,
   "metadata": {},
   "outputs": [],
   "source": [
    "# Загрузим логи в переменную\n",
    "logs = pd.read_csv('/datasets/logs_exp.csv', sep='\\t')  "
   ]
  },
  {
   "cell_type": "code",
   "execution_count": 3,
   "metadata": {},
   "outputs": [
    {
     "data": {
      "text/html": [
       "<div>\n",
       "<style scoped>\n",
       "    .dataframe tbody tr th:only-of-type {\n",
       "        vertical-align: middle;\n",
       "    }\n",
       "\n",
       "    .dataframe tbody tr th {\n",
       "        vertical-align: top;\n",
       "    }\n",
       "\n",
       "    .dataframe thead th {\n",
       "        text-align: right;\n",
       "    }\n",
       "</style>\n",
       "<table border=\"1\" class=\"dataframe\">\n",
       "  <thead>\n",
       "    <tr style=\"text-align: right;\">\n",
       "      <th></th>\n",
       "      <th>EventName</th>\n",
       "      <th>DeviceIDHash</th>\n",
       "      <th>EventTimestamp</th>\n",
       "      <th>ExpId</th>\n",
       "    </tr>\n",
       "  </thead>\n",
       "  <tbody>\n",
       "    <tr>\n",
       "      <th>0</th>\n",
       "      <td>MainScreenAppear</td>\n",
       "      <td>4575588528974610257</td>\n",
       "      <td>1564029816</td>\n",
       "      <td>246</td>\n",
       "    </tr>\n",
       "    <tr>\n",
       "      <th>1</th>\n",
       "      <td>MainScreenAppear</td>\n",
       "      <td>7416695313311560658</td>\n",
       "      <td>1564053102</td>\n",
       "      <td>246</td>\n",
       "    </tr>\n",
       "    <tr>\n",
       "      <th>2</th>\n",
       "      <td>PaymentScreenSuccessful</td>\n",
       "      <td>3518123091307005509</td>\n",
       "      <td>1564054127</td>\n",
       "      <td>248</td>\n",
       "    </tr>\n",
       "    <tr>\n",
       "      <th>3</th>\n",
       "      <td>CartScreenAppear</td>\n",
       "      <td>3518123091307005509</td>\n",
       "      <td>1564054127</td>\n",
       "      <td>248</td>\n",
       "    </tr>\n",
       "    <tr>\n",
       "      <th>4</th>\n",
       "      <td>PaymentScreenSuccessful</td>\n",
       "      <td>6217807653094995999</td>\n",
       "      <td>1564055322</td>\n",
       "      <td>248</td>\n",
       "    </tr>\n",
       "  </tbody>\n",
       "</table>\n",
       "</div>"
      ],
      "text/plain": [
       "                 EventName         DeviceIDHash  EventTimestamp  ExpId\n",
       "0         MainScreenAppear  4575588528974610257      1564029816    246\n",
       "1         MainScreenAppear  7416695313311560658      1564053102    246\n",
       "2  PaymentScreenSuccessful  3518123091307005509      1564054127    248\n",
       "3         CartScreenAppear  3518123091307005509      1564054127    248\n",
       "4  PaymentScreenSuccessful  6217807653094995999      1564055322    248"
      ]
     },
     "execution_count": 3,
     "metadata": {},
     "output_type": "execute_result"
    }
   ],
   "source": [
    "logs.head(5)"
   ]
  },
  {
   "cell_type": "code",
   "execution_count": 4,
   "metadata": {},
   "outputs": [
    {
     "name": "stdout",
     "output_type": "stream",
     "text": [
      "<class 'pandas.core.frame.DataFrame'>\n",
      "RangeIndex: 244126 entries, 0 to 244125\n",
      "Data columns (total 4 columns):\n",
      " #   Column          Non-Null Count   Dtype \n",
      "---  ------          --------------   ----- \n",
      " 0   EventName       244126 non-null  object\n",
      " 1   DeviceIDHash    244126 non-null  int64 \n",
      " 2   EventTimestamp  244126 non-null  int64 \n",
      " 3   ExpId           244126 non-null  int64 \n",
      "dtypes: int64(3), object(1)\n",
      "memory usage: 7.5+ MB\n"
     ]
    }
   ],
   "source": [
    "# Рассмотрим инфо по таблице, чтобы увидеть названия столбцов и наличие пропусков\n",
    "logs.info()"
   ]
  },
  {
   "cell_type": "markdown",
   "metadata": {},
   "source": [
    "Пропусков в данных не обнаружили.\\\n",
    "Приведем названия столбцов к нижнему регистру и изменим тип данных у столбца времени события."
   ]
  },
  {
   "cell_type": "code",
   "execution_count": 5,
   "metadata": {},
   "outputs": [],
   "source": [
    "# Нормализуем названия столбцов\n",
    "logs = logs.rename(columns={\"EventName\": \"event_name\", \"DeviceIDHash\": \"device_id_hash\", \"EventTimestamp\": \"event_timestamp\", \"ExpId\" : \"exp_id\"})"
   ]
  },
  {
   "cell_type": "code",
   "execution_count": 6,
   "metadata": {},
   "outputs": [],
   "source": [
    "# Изменим тип даты и времени с юниксового\n",
    "logs['event_timestamp'] = pd.to_datetime(logs['event_timestamp'], unit = 's')"
   ]
  },
  {
   "cell_type": "code",
   "execution_count": 7,
   "metadata": {},
   "outputs": [
    {
     "data": {
      "text/plain": [
       "413"
      ]
     },
     "execution_count": 7,
     "metadata": {},
     "output_type": "execute_result"
    }
   ],
   "source": [
    "# Проверим нет ли полных дубликатов\n",
    "logs.duplicated().sum()"
   ]
  },
  {
   "cell_type": "markdown",
   "metadata": {},
   "source": [
    "Обнаружили 413 полностью дублицированных строк (менее 1% от массива), удалим их."
   ]
  },
  {
   "cell_type": "code",
   "execution_count": 8,
   "metadata": {},
   "outputs": [],
   "source": [
    "logs = logs.drop_duplicates()"
   ]
  },
  {
   "cell_type": "code",
   "execution_count": 9,
   "metadata": {},
   "outputs": [
    {
     "name": "stdout",
     "output_type": "stream",
     "text": [
      "<class 'pandas.core.frame.DataFrame'>\n",
      "Int64Index: 243713 entries, 0 to 244125\n",
      "Data columns (total 4 columns):\n",
      " #   Column           Non-Null Count   Dtype         \n",
      "---  ------           --------------   -----         \n",
      " 0   event_name       243713 non-null  object        \n",
      " 1   device_id_hash   243713 non-null  int64         \n",
      " 2   event_timestamp  243713 non-null  datetime64[ns]\n",
      " 3   exp_id           243713 non-null  int64         \n",
      "dtypes: datetime64[ns](1), int64(2), object(1)\n",
      "memory usage: 9.3+ MB\n"
     ]
    }
   ],
   "source": [
    "# Проверим нормализацию названий столбцов и очистку дубликатов\n",
    "logs.info()"
   ]
  },
  {
   "cell_type": "markdown",
   "metadata": {},
   "source": [
    "Добавим отдельный столбец с датами"
   ]
  },
  {
   "cell_type": "code",
   "execution_count": 10,
   "metadata": {},
   "outputs": [],
   "source": [
    "logs['event_date'] = pd.to_datetime(logs['event_timestamp']).dt.date"
   ]
  },
  {
   "cell_type": "code",
   "execution_count": 11,
   "metadata": {},
   "outputs": [
    {
     "data": {
      "text/html": [
       "<div>\n",
       "<style scoped>\n",
       "    .dataframe tbody tr th:only-of-type {\n",
       "        vertical-align: middle;\n",
       "    }\n",
       "\n",
       "    .dataframe tbody tr th {\n",
       "        vertical-align: top;\n",
       "    }\n",
       "\n",
       "    .dataframe thead th {\n",
       "        text-align: right;\n",
       "    }\n",
       "</style>\n",
       "<table border=\"1\" class=\"dataframe\">\n",
       "  <thead>\n",
       "    <tr style=\"text-align: right;\">\n",
       "      <th></th>\n",
       "      <th>event_name</th>\n",
       "      <th>device_id_hash</th>\n",
       "      <th>event_timestamp</th>\n",
       "      <th>exp_id</th>\n",
       "      <th>event_date</th>\n",
       "    </tr>\n",
       "  </thead>\n",
       "  <tbody>\n",
       "    <tr>\n",
       "      <th>0</th>\n",
       "      <td>MainScreenAppear</td>\n",
       "      <td>4575588528974610257</td>\n",
       "      <td>2019-07-25 04:43:36</td>\n",
       "      <td>246</td>\n",
       "      <td>2019-07-25</td>\n",
       "    </tr>\n",
       "    <tr>\n",
       "      <th>1</th>\n",
       "      <td>MainScreenAppear</td>\n",
       "      <td>7416695313311560658</td>\n",
       "      <td>2019-07-25 11:11:42</td>\n",
       "      <td>246</td>\n",
       "      <td>2019-07-25</td>\n",
       "    </tr>\n",
       "    <tr>\n",
       "      <th>2</th>\n",
       "      <td>PaymentScreenSuccessful</td>\n",
       "      <td>3518123091307005509</td>\n",
       "      <td>2019-07-25 11:28:47</td>\n",
       "      <td>248</td>\n",
       "      <td>2019-07-25</td>\n",
       "    </tr>\n",
       "    <tr>\n",
       "      <th>3</th>\n",
       "      <td>CartScreenAppear</td>\n",
       "      <td>3518123091307005509</td>\n",
       "      <td>2019-07-25 11:28:47</td>\n",
       "      <td>248</td>\n",
       "      <td>2019-07-25</td>\n",
       "    </tr>\n",
       "    <tr>\n",
       "      <th>4</th>\n",
       "      <td>PaymentScreenSuccessful</td>\n",
       "      <td>6217807653094995999</td>\n",
       "      <td>2019-07-25 11:48:42</td>\n",
       "      <td>248</td>\n",
       "      <td>2019-07-25</td>\n",
       "    </tr>\n",
       "  </tbody>\n",
       "</table>\n",
       "</div>"
      ],
      "text/plain": [
       "                event_name       device_id_hash     event_timestamp  exp_id  \\\n",
       "0         MainScreenAppear  4575588528974610257 2019-07-25 04:43:36     246   \n",
       "1         MainScreenAppear  7416695313311560658 2019-07-25 11:11:42     246   \n",
       "2  PaymentScreenSuccessful  3518123091307005509 2019-07-25 11:28:47     248   \n",
       "3         CartScreenAppear  3518123091307005509 2019-07-25 11:28:47     248   \n",
       "4  PaymentScreenSuccessful  6217807653094995999 2019-07-25 11:48:42     248   \n",
       "\n",
       "   event_date  \n",
       "0  2019-07-25  \n",
       "1  2019-07-25  \n",
       "2  2019-07-25  \n",
       "3  2019-07-25  \n",
       "4  2019-07-25  "
      ]
     },
     "execution_count": 11,
     "metadata": {},
     "output_type": "execute_result"
    }
   ],
   "source": [
    "logs.head(5)"
   ]
  },
  {
   "cell_type": "markdown",
   "metadata": {},
   "source": [
    "Врамках предобработки данных мы:\n",
    "- нормализовали формат названий столбцов,\n",
    "- конвертировали время событий из юниксового в datetime,\n",
    "- удалили полные дубликаты,\n",
    "- добавили столбец с датами событий."
   ]
  },
  {
   "cell_type": "markdown",
   "metadata": {},
   "source": [
    "### 3. Изучим и проверим данные"
   ]
  },
  {
   "cell_type": "markdown",
   "metadata": {},
   "source": [
    "#### 3.1. Число событий и пользователей"
   ]
  },
  {
   "cell_type": "code",
   "execution_count": 12,
   "metadata": {},
   "outputs": [
    {
     "data": {
      "text/plain": [
       "(243713, 5)"
      ]
     },
     "execution_count": 12,
     "metadata": {},
     "output_type": "execute_result"
    }
   ],
   "source": [
    "# Посчитаем количество событий\n",
    "logs.shape"
   ]
  },
  {
   "cell_type": "code",
   "execution_count": 13,
   "metadata": {},
   "outputs": [
    {
     "data": {
      "text/plain": [
       "7551"
      ]
     },
     "execution_count": 13,
     "metadata": {},
     "output_type": "execute_result"
    }
   ],
   "source": [
    "# Посчитаем количество уникальных пользователей\n",
    "logs['device_id_hash'].nunique()"
   ]
  },
  {
   "cell_type": "code",
   "execution_count": 14,
   "metadata": {},
   "outputs": [
    {
     "data": {
      "text/plain": [
       "32.27559263673685"
      ]
     },
     "execution_count": 14,
     "metadata": {},
     "output_type": "execute_result"
    }
   ],
   "source": [
    "# Рассмотрим, сколько в среднем событий приходится на пользователя\n",
    "logs.groupby('device_id_hash')['event_timestamp'].count().mean()"
   ]
  },
  {
   "cell_type": "markdown",
   "metadata": {},
   "source": [
    "В среднем одного на пользователя приходится 32 события."
   ]
  },
  {
   "cell_type": "markdown",
   "metadata": {},
   "source": [
    "#### 3.2. Период наблюдения"
   ]
  },
  {
   "cell_type": "code",
   "execution_count": 15,
   "metadata": {},
   "outputs": [
    {
     "name": "stdout",
     "output_type": "stream",
     "text": [
      "2019-07-25 04:43:36\n",
      "2019-08-07 21:15:17\n"
     ]
    },
    {
     "data": {
      "text/plain": [
       "13"
      ]
     },
     "execution_count": 15,
     "metadata": {},
     "output_type": "execute_result"
    }
   ],
   "source": [
    "# Разберемся, какой период мы имеем, найдем минимальную и максимальную дату\n",
    "print(min(logs['event_timestamp']))\n",
    "print(max(logs['event_timestamp']))\n",
    "(max(logs['event_timestamp']) - min(logs['event_timestamp'])).days"
   ]
  },
  {
   "cell_type": "markdown",
   "metadata": {},
   "source": [
    "Дата самого раннего события - 25 июля 2019 г, дата самого позднего - 7 августа 2019 года. Эксперимент длился 13 дней.\n",
    "\n",
    "Построим гистограмму, чтобы сравнить полноту данных по дням. "
   ]
  },
  {
   "cell_type": "code",
   "execution_count": 16,
   "metadata": {},
   "outputs": [
    {
     "data": {
      "image/png": "[encoded data removed]",
      "text/plain": [
       "<Figure size 1080x288 with 1 Axes>"
      ]
     },
     "metadata": {
      "needs_background": "light"
     },
     "output_type": "display_data"
    }
   ],
   "source": [
    "plt.figure(figsize=(15,4))\n",
    "plt.title('Количество событий по датам эксперимента')\n",
    "plt.ylabel('Кол-во событий')\n",
    "plt.xlabel('Даты эксперимента')\n",
    "logs['event_date'].hist(bins=27)\n",
    "plt.grid(visible=False)\n",
    "plt.show()"
   ]
  },
  {
   "cell_type": "markdown",
   "metadata": {},
   "source": [
    "По гистограмме видно, что в июльские дни данных значительно меньше, чем в августе.\\\n",
    "Попробуем отбросить данные за эти дни, чтобы не искажать статистику."
   ]
  },
  {
   "cell_type": "code",
   "execution_count": 17,
   "metadata": {},
   "outputs": [],
   "source": [
    "# Оставим только данные с 1 августа\n",
    "logs_clean = logs[logs['event_date']>=dt.date(2019, 8, 1)]"
   ]
  },
  {
   "cell_type": "code",
   "execution_count": 18,
   "metadata": {
    "scrolled": false
   },
   "outputs": [
    {
     "data": {
      "image/png": "[encoded data removed]",
      "text/plain": [
       "<Figure size 1080x288 with 1 Axes>"
      ]
     },
     "metadata": {
      "needs_background": "light"
     },
     "output_type": "display_data"
    }
   ],
   "source": [
    "plt.figure(figsize=(15,4))\n",
    "plt.title('Количество событий по датам эксперимента после очистки дат')\n",
    "plt.ylabel('Кол-во событий')\n",
    "plt.xlabel('Даты эксперимента')\n",
    "logs_clean['event_date'].hist(bins=13)\n",
    "plt.grid(visible=False)\n",
    "plt.show()"
   ]
  },
  {
   "cell_type": "markdown",
   "metadata": {},
   "source": [
    "#### 3.3. Проверка данных после отсечения июля"
   ]
  },
  {
   "cell_type": "markdown",
   "metadata": {},
   "source": [
    "Посмотрим, что мы потеряли, после урезания периода "
   ]
  },
  {
   "cell_type": "code",
   "execution_count": 19,
   "metadata": {},
   "outputs": [
    {
     "name": "stdout",
     "output_type": "stream",
     "text": [
      "Пользователей после очистки: 7534\n",
      "Потеряли пользователей, чел.: 17\n",
      "Доля потерянных пользователей: 0.23%\n"
     ]
    }
   ],
   "source": [
    "# Посчитаем количество уникальных пользователей и посмотрим, сколько мы потеряли после отсечения\n",
    "print(\"Пользователей после очистки:\",logs_clean['device_id_hash'].nunique())\n",
    "print(\"Потеряли пользователей, чел.:\",logs['device_id_hash'].nunique() - logs_clean['device_id_hash'].nunique())\n",
    "print(\"Доля потерянных пользователей:\",\n",
    "      \"{:.2%}\".format((logs['device_id_hash'].nunique() - logs_clean['device_id_hash'].nunique())\n",
    "                      /logs_clean['device_id_hash'].nunique()))"
   ]
  },
  {
   "cell_type": "code",
   "execution_count": 20,
   "metadata": {},
   "outputs": [
    {
     "name": "stdout",
     "output_type": "stream",
     "text": [
      "Событий после очистки: 240887\n",
      "Потеряли событий, шт.: 2826\n",
      "Доля потерянных событий: 1.16%\n"
     ]
    }
   ],
   "source": [
    "print(\"Событий после очистки:\",len(logs_clean.index))\n",
    "print(\"Потеряли событий, шт.:\",len(logs.index) - len(logs_clean.index))\n",
    "print(\"Доля потерянных событий:\",\n",
    "      \"{:.2%}\".format((len(logs.index) - len(logs_clean.index))\n",
    "                      /len(logs.index)))"
   ]
  },
  {
   "cell_type": "markdown",
   "metadata": {},
   "source": [
    "Итак, мы потеряли данные о 0,2% пользователей и 1% событий - выглядит незначительно."
   ]
  },
  {
   "cell_type": "code",
   "execution_count": 21,
   "metadata": {
    "scrolled": true
   },
   "outputs": [
    {
     "data": {
      "image/png": "[encoded data removed]",
      "text/plain": [
       "<Figure size 1080x288 with 1 Axes>"
      ]
     },
     "metadata": {
      "needs_background": "light"
     },
     "output_type": "display_data"
    }
   ],
   "source": [
    "plt.figure(figsize=(15,4))\n",
    "plt.title('Количество уникальных пользователей в группах эксперимента')\n",
    "plt.ylabel('Кол-во уникальных пользователей')\n",
    "plt.xlabel('Группы эксперимента')\n",
    "logs['exp_id'].hist(bins=5)\n",
    "plt.xticks(np.arange(246, 249, 1))\n",
    "plt.grid(visible=False)\n",
    "plt.show()"
   ]
  },
  {
   "cell_type": "markdown",
   "metadata": {},
   "source": [
    "Мы по-прежнему располагаем данными из всех трех групп эксперимента и количество событий распределено между группами равномерно."
   ]
  },
  {
   "cell_type": "markdown",
   "metadata": {},
   "source": [
    "**Мы установили, что у нас есть 7 полноценных, с точки зрения полноты данных, дней эксперимента: с 1 по 7 августа 2019 года.**"
   ]
  },
  {
   "cell_type": "markdown",
   "metadata": {},
   "source": [
    "### 4. Анализ воронки событий, определение узких мест"
   ]
  },
  {
   "cell_type": "markdown",
   "metadata": {},
   "source": [
    "#### 4.1. Типы событий в логах"
   ]
  },
  {
   "cell_type": "code",
   "execution_count": 22,
   "metadata": {},
   "outputs": [
    {
     "data": {
      "text/plain": [
       "array(['Tutorial', 'MainScreenAppear', 'OffersScreenAppear',\n",
       "       'CartScreenAppear', 'PaymentScreenSuccessful'], dtype=object)"
      ]
     },
     "execution_count": 22,
     "metadata": {},
     "output_type": "execute_result"
    }
   ],
   "source": [
    "# Изучим, какие события есть в логах\n",
    "logs_clean['event_name'].unique()"
   ]
  },
  {
   "cell_type": "markdown",
   "metadata": {},
   "source": [
    "События в том порядке, в котором, предполагаем, по сценарию их проходит пользователь:\n",
    "1. Tutorial - пользователь видит инструкцию к приложению.\n",
    "2. MainScreenAppear - пользователю отображается главный экран приложения.\n",
    "3. OffersScreenAppear - пользователю отображается каталог товаров.\n",
    "4. CartScreenAppear - пользователю отображается страница с  содержимым корзины.\n",
    "5. PaymentScreenSuccessful - пользователь видит экран успешной оплаты.\n",
    "\n",
    "Сходу есть сомнения в том, что Tutorial - это обязательное событие, через которое проходит каждый пользователь. Остальные пункты кажутся необходимыми для совершения оплаты. Посмотрим на данных."
   ]
  },
  {
   "cell_type": "code",
   "execution_count": 23,
   "metadata": {
    "scrolled": true
   },
   "outputs": [
    {
     "data": {
      "image/png": "[encoded data removed]",
      "text/plain": [
       "<Figure size 1080x288 with 1 Axes>"
      ]
     },
     "metadata": {
      "needs_background": "light"
     },
     "output_type": "display_data"
    }
   ],
   "source": [
    "# Посмотрим частоту событий по типам\n",
    "plt.figure(figsize=(15,4))\n",
    "plt.title('Частота событий в экспериментальных данных')\n",
    "plt.ylabel('Кол-во событий')\n",
    "plt.xlabel('Типы событий')\n",
    "logs['event_name'].hist(bins=9)\n",
    "plt.grid(visible=False)\n",
    "plt.show()"
   ]
  },
  {
   "cell_type": "markdown",
   "metadata": {},
   "source": [
    "Да, Tutorial явно не обязательное событие. Предполагаю, что это справка, которую пользователи могут вызвать в любой момент. Остальные события по частоте совершений вполне укладываются в логику воронки.\\\n",
    "Здесь же сразу можно предположить, что узким местом является переход с главного экрана в каталог - туда переходят в два раза реже, чем заходят на главный экран."
   ]
  },
  {
   "cell_type": "code",
   "execution_count": 24,
   "metadata": {},
   "outputs": [
    {
     "data": {
      "text/html": [
       "<div>\n",
       "<style scoped>\n",
       "    .dataframe tbody tr th:only-of-type {\n",
       "        vertical-align: middle;\n",
       "    }\n",
       "\n",
       "    .dataframe tbody tr th {\n",
       "        vertical-align: top;\n",
       "    }\n",
       "\n",
       "    .dataframe thead th {\n",
       "        text-align: right;\n",
       "    }\n",
       "</style>\n",
       "<table border=\"1\" class=\"dataframe\">\n",
       "  <thead>\n",
       "    <tr style=\"text-align: right;\">\n",
       "      <th></th>\n",
       "      <th>event_name</th>\n",
       "      <th>device_id_hash</th>\n",
       "      <th>percent_from_total</th>\n",
       "    </tr>\n",
       "  </thead>\n",
       "  <tbody>\n",
       "    <tr>\n",
       "      <th>1</th>\n",
       "      <td>MainScreenAppear</td>\n",
       "      <td>7419</td>\n",
       "      <td>0.985</td>\n",
       "    </tr>\n",
       "    <tr>\n",
       "      <th>2</th>\n",
       "      <td>OffersScreenAppear</td>\n",
       "      <td>4593</td>\n",
       "      <td>0.610</td>\n",
       "    </tr>\n",
       "    <tr>\n",
       "      <th>0</th>\n",
       "      <td>CartScreenAppear</td>\n",
       "      <td>3734</td>\n",
       "      <td>0.496</td>\n",
       "    </tr>\n",
       "    <tr>\n",
       "      <th>3</th>\n",
       "      <td>PaymentScreenSuccessful</td>\n",
       "      <td>3539</td>\n",
       "      <td>0.470</td>\n",
       "    </tr>\n",
       "    <tr>\n",
       "      <th>4</th>\n",
       "      <td>Tutorial</td>\n",
       "      <td>840</td>\n",
       "      <td>0.111</td>\n",
       "    </tr>\n",
       "  </tbody>\n",
       "</table>\n",
       "</div>"
      ],
      "text/plain": [
       "                event_name  device_id_hash  percent_from_total\n",
       "1         MainScreenAppear            7419               0.985\n",
       "2       OffersScreenAppear            4593               0.610\n",
       "0         CartScreenAppear            3734               0.496\n",
       "3  PaymentScreenSuccessful            3539               0.470\n",
       "4                 Tutorial             840               0.111"
      ]
     },
     "execution_count": 24,
     "metadata": {},
     "output_type": "execute_result"
    }
   ],
   "source": [
    "# Посчитаем, сколько уникальных пользователей совершило событие каждого типа\n",
    "grouped_data = logs_clean.groupby('event_name')['device_id_hash'].nunique().reset_index().sort_values(by='device_id_hash',ascending=False)\n",
    "grouped_data['percent_from_total'] = round(grouped_data['device_id_hash'] / logs_clean['device_id_hash'].nunique(),3)\n",
    "grouped_data"
   ]
  },
  {
   "cell_type": "markdown",
   "metadata": {},
   "source": [
    "Видим, что мы теряем почти 40% пользователей на переходе с главного экрана к каталогу."
   ]
  },
  {
   "cell_type": "code",
   "execution_count": 25,
   "metadata": {},
   "outputs": [],
   "source": [
    "# Удалим события с типом Tutorial, потому что они не укладываются в воронку покупки\n",
    "logs_clean = logs_clean[logs_clean['event_name'] != 'Tutorial']"
   ]
  },
  {
   "cell_type": "markdown",
   "metadata": {},
   "source": [
    "#### 4.2. Определение узких мест в воронке"
   ]
  },
  {
   "cell_type": "markdown",
   "metadata": {},
   "source": [
    "Посчитаем конверсию на разных этапах воронки"
   ]
  },
  {
   "cell_type": "code",
   "execution_count": 26,
   "metadata": {},
   "outputs": [],
   "source": [
    "grouped_data = logs_clean.groupby('event_name')['device_id_hash'].nunique().reset_index().sort_values(by='device_id_hash',ascending=False)\n",
    "grouped_data['percent_from_total'] = round(grouped_data['device_id_hash'] / logs_clean['device_id_hash'].nunique(),3)"
   ]
  },
  {
   "cell_type": "code",
   "execution_count": 27,
   "metadata": {},
   "outputs": [],
   "source": [
    "grouped_data['conversion_from_previous'] = round(grouped_data['device_id_hash'] / grouped_data['device_id_hash'].shift(1),3)"
   ]
  },
  {
   "cell_type": "code",
   "execution_count": 28,
   "metadata": {
    "scrolled": true
   },
   "outputs": [
    {
     "data": {
      "text/html": [
       "<div>\n",
       "<style scoped>\n",
       "    .dataframe tbody tr th:only-of-type {\n",
       "        vertical-align: middle;\n",
       "    }\n",
       "\n",
       "    .dataframe tbody tr th {\n",
       "        vertical-align: top;\n",
       "    }\n",
       "\n",
       "    .dataframe thead th {\n",
       "        text-align: right;\n",
       "    }\n",
       "</style>\n",
       "<table border=\"1\" class=\"dataframe\">\n",
       "  <thead>\n",
       "    <tr style=\"text-align: right;\">\n",
       "      <th></th>\n",
       "      <th>event_name</th>\n",
       "      <th>device_id_hash</th>\n",
       "      <th>percent_from_total</th>\n",
       "      <th>conversion_from_previous</th>\n",
       "    </tr>\n",
       "  </thead>\n",
       "  <tbody>\n",
       "    <tr>\n",
       "      <th>1</th>\n",
       "      <td>MainScreenAppear</td>\n",
       "      <td>7419</td>\n",
       "      <td>0.985</td>\n",
       "      <td>NaN</td>\n",
       "    </tr>\n",
       "    <tr>\n",
       "      <th>2</th>\n",
       "      <td>OffersScreenAppear</td>\n",
       "      <td>4593</td>\n",
       "      <td>0.610</td>\n",
       "      <td>0.619</td>\n",
       "    </tr>\n",
       "    <tr>\n",
       "      <th>0</th>\n",
       "      <td>CartScreenAppear</td>\n",
       "      <td>3734</td>\n",
       "      <td>0.496</td>\n",
       "      <td>0.813</td>\n",
       "    </tr>\n",
       "    <tr>\n",
       "      <th>3</th>\n",
       "      <td>PaymentScreenSuccessful</td>\n",
       "      <td>3539</td>\n",
       "      <td>0.470</td>\n",
       "      <td>0.948</td>\n",
       "    </tr>\n",
       "  </tbody>\n",
       "</table>\n",
       "</div>"
      ],
      "text/plain": [
       "                event_name  device_id_hash  percent_from_total  \\\n",
       "1         MainScreenAppear            7419               0.985   \n",
       "2       OffersScreenAppear            4593               0.610   \n",
       "0         CartScreenAppear            3734               0.496   \n",
       "3  PaymentScreenSuccessful            3539               0.470   \n",
       "\n",
       "   conversion_from_previous  \n",
       "1                       NaN  \n",
       "2                     0.619  \n",
       "0                     0.813  \n",
       "3                     0.948  "
      ]
     },
     "execution_count": 28,
     "metadata": {},
     "output_type": "execute_result"
    }
   ],
   "source": [
    "grouped_data"
   ]
  },
  {
   "cell_type": "markdown",
   "metadata": {},
   "source": [
    "Лучшая конверсия при переходе от корзины к экрану успешной оплаты - 94%.\\\n",
    "Худшая - при переходе от основного экрана к каталогу - 60%. Улучшение конверсии на этом шаге должно дать наибольший эффект для повышения продаж.\n",
    "\n",
    "Всего покупку совершает 46% всех пользователей приложения (доля тех, кто видит экран успешной оплаты). Много ли это? Кажется, что для приложения, основная функция которого покупать продукты, немного. Быстро найти референсные значения в интернете, к сожалению, не удалосью"
   ]
  },
  {
   "cell_type": "markdown",
   "metadata": {},
   "source": [
    "### 5. Анализ результатов эксперимента"
   ]
  },
  {
   "cell_type": "code",
   "execution_count": 30,
   "metadata": {},
   "outputs": [
    {
     "data": {
      "text/html": [
       "<div>\n",
       "<style scoped>\n",
       "    .dataframe tbody tr th:only-of-type {\n",
       "        vertical-align: middle;\n",
       "    }\n",
       "\n",
       "    .dataframe tbody tr th {\n",
       "        vertical-align: top;\n",
       "    }\n",
       "\n",
       "    .dataframe thead th {\n",
       "        text-align: right;\n",
       "    }\n",
       "</style>\n",
       "<table border=\"1\" class=\"dataframe\">\n",
       "  <thead>\n",
       "    <tr style=\"text-align: right;\">\n",
       "      <th></th>\n",
       "      <th>exp_id</th>\n",
       "    </tr>\n",
       "    <tr>\n",
       "      <th>device_id_hash</th>\n",
       "      <th></th>\n",
       "    </tr>\n",
       "  </thead>\n",
       "  <tbody>\n",
       "  </tbody>\n",
       "</table>\n",
       "</div>"
      ],
      "text/plain": [
       "Empty DataFrame\n",
       "Columns: [exp_id]\n",
       "Index: []"
      ]
     },
     "execution_count": 30,
     "metadata": {},
     "output_type": "execute_result"
    }
   ],
   "source": [
    "# Проверим пользователей, которые могли участвовать в двух или нескольких группах одновременно:\n",
    "logs_clean.groupby('device_id_hash').agg({'exp_id':'nunique'}).query('exp_id > 1') "
   ]
  },
  {
   "cell_type": "markdown",
   "metadata": {},
   "source": [
    "Пользователей, попавших больше, чем в одну группу, нет."
   ]
  },
  {
   "cell_type": "code",
   "execution_count": 31,
   "metadata": {},
   "outputs": [
    {
     "data": {
      "text/plain": [
       "exp_id\n",
       "246    2483\n",
       "247    2512\n",
       "248    2535\n",
       "Name: device_id_hash, dtype: int64"
      ]
     },
     "execution_count": 31,
     "metadata": {},
     "output_type": "execute_result"
    }
   ],
   "source": [
    "# Посмотрим, сколько пользователей эксперимента в каждой экспериментальной группе\n",
    "logs_clean.groupby('exp_id')['device_id_hash'].nunique()"
   ]
  },
  {
   "cell_type": "markdown",
   "metadata": {},
   "source": [
    "Еще раз отметим равномерное распределение пользователей между группами"
   ]
  },
  {
   "cell_type": "markdown",
   "metadata": {},
   "source": [
    "#### 5.1. Разработаем функцию для проверки гипотезы о равенстве доли пользователей с каждым событием в контрольных группах"
   ]
  },
  {
   "cell_type": "markdown",
   "metadata": {},
   "source": [
    "Разработаем функцию, которая будет принимать на вход параметры:\n",
    "- logs - датасет с логами эксперимента,\n",
    "- alpha - уровень статистической значимости,\n",
    "- group_a - идентификатор первой тестовой группы,\n",
    "- group_b - идентификатор второй тестовой группы.\n",
    "\n",
    "На выходе функция будет выдавать p-value и результаты проверки гипотез для всех уникальных событий в датасете."
   ]
  },
  {
   "cell_type": "code",
   "execution_count": 32,
   "metadata": {},
   "outputs": [],
   "source": [
    "def stage_test (logs, alpha, group_a, group_b):   \n",
    "    #Расчитаем кол-во пользователей на верхнем этапе воронки\n",
    "    enter_users_a = logs.query('exp_id == @group_a')['device_id_hash'].nunique()\n",
    "    enter_users_b = logs.query('exp_id == @group_b')['device_id_hash'].nunique()\n",
    "    \n",
    "    #Собираем названия этапов и сортируем по убыванию числа пользователей\n",
    "    stages = logs.groupby('event_name')['device_id_hash'].nunique().reset_index().sort_values(by='device_id_hash',ascending=False)\n",
    "    stages['row_num'] = np.arange(len(stages))\n",
    "    \n",
    "    from termcolor import colored\n",
    "    \n",
    "    i = 1 # Добавляем счетчик для заголовков\n",
    "    \n",
    "    for stage in stages['event_name']:\n",
    "        # Расчитываем количество пользователей на \"выходном\" этапе воронке по группам\n",
    "        out_users_a = logs.query('exp_id == @group_a & event_name == @stage')['device_id_hash'].nunique()\n",
    "        out_users_b = logs.query('exp_id == @group_b & event_name == @stage')['device_id_hash'].nunique()\n",
    "\n",
    "        # Расчитываем конверсию для каждой группы\n",
    "        c_a = out_users_a / enter_users_a\n",
    "        c_b = out_users_b / enter_users_b\n",
    "\n",
    "        # Считаем разницу пропорций в группах\n",
    "        c_diff = c_a - c_b\n",
    "\n",
    "        # Расчитываем конверсию для комбинированной группы\n",
    "        c_comb = (out_users_a + out_users_b) / (enter_users_a + enter_users_b)\n",
    "\n",
    "        # Считаем статистику в стандартных отклонениях стандартного нормаcvльного распределения\n",
    "        z_value = c_diff / mth.sqrt(c_comb * (1 - c_comb) * (1/enter_users_a + 1/enter_users_b))\n",
    "\n",
    "        # Задаем стандартное нормальное распределение (среднее 0, ст.отклонение 1)\n",
    "        distr = st.norm(0, 1)  \n",
    "\n",
    "        # Расчитываем p-value\n",
    "        p_value = (1 - distr.cdf(abs(z_value))) * 2\n",
    "        \n",
    "        #Выводим результат сравнения\n",
    "        print(colored(i, 'blue', attrs=['bold']), \n",
    "              colored(') Этап ', 'blue', attrs=['bold']),\n",
    "              colored(stage, 'blue', attrs=['bold']),\n",
    "              colored(', группы ', 'blue', attrs=['bold']),\n",
    "              colored(group_a, 'blue', attrs=['bold']),\n",
    "              colored(' и ', 'blue', attrs=['bold']),\n",
    "              colored(group_b, 'blue', attrs=['bold']),              \n",
    "              colored(': поиск статистически значимых отличий в доле пользователей c событием', 'blue', attrs=['bold'])\n",
    "              , sep='')\n",
    "               \n",
    "        print()\n",
    "        \n",
    "        print('Доля пользователей с событием',stage,'составила:')\n",
    "        print('  - в группе ', group_a, ': ', \"{:.2%}\".format(c_a), sep='')\n",
    "        print('  - в группе ', group_b, ': ', \"{:.2%}\".format(c_b), sep='')\n",
    "        print()\n",
    "        \n",
    "        print('p-значение: ', round(p_value,3))\n",
    "        print()\n",
    "        \n",
    "        print(colored('Вывод:', attrs=['bold']))\n",
    "        if p_value < alpha:\n",
    "            print('Отвергаем нулевую гипотезу: между конверсиями есть значимая разница.')\n",
    "        else:\n",
    "            print(\n",
    "                'Не получилось отвергнуть нулевую гипотезу, нет оснований считать конверсии разными.'\n",
    "            ) \n",
    "        print()\n",
    "        print()\n",
    "        \n",
    "        i +=1"
   ]
  },
  {
   "cell_type": "markdown",
   "metadata": {},
   "source": [
    "#### 5.2. Проверка корректности эксперимента - А/А тест"
   ]
  },
  {
   "cell_type": "markdown",
   "metadata": {},
   "source": [
    "С помощью функции stage_test **проверим наличие статистически значимых различий** между контрольными группами для события каждого типа.\n",
    "\n",
    "**Уровень статистической значимости** для каждого отдельного эксперимента я бы принял равным 0.05. Однако, мы собираемся сделать множественный тест - сделать 4 проверки для контрольных выборок, и в случае успеха, ещё 4 проверки для сравнения групп А и В.\\\n",
    "Применим поправка Бонферрони и рассчитаем **уровень стат. значимости = 0.05 / 8 = 0.00625**\n",
    "\n",
    "Гипотезы для всех этапов сформулируем так:\\\n",
    "Н0: Доля пользователей, имеющих данный тип события от всех пользователей в выборке для группы 246 **не отличается** от доли таких пользователей для группы 247.\\\n",
    "Н1: Доля пользователей, имеющих данный тип события от всех пользователей в выборке для группы 246 **отличается** от доли таких пользователей для группы 247."
   ]
  },
  {
   "cell_type": "code",
   "execution_count": 33,
   "metadata": {},
   "outputs": [
    {
     "name": "stdout",
     "output_type": "stream",
     "text": [
      "\u001b[1m\u001b[34m1\u001b[0m\u001b[1m\u001b[34m) Этап \u001b[0m\u001b[1m\u001b[34mMainScreenAppear\u001b[0m\u001b[1m\u001b[34m, группы \u001b[0m\u001b[1m\u001b[34m246\u001b[0m\u001b[1m\u001b[34m и \u001b[0m\u001b[1m\u001b[34m247\u001b[0m\u001b[1m\u001b[34m: поиск статистически значимых отличий в доле пользователей c событием\u001b[0m\n",
      "\n",
      "Доля пользователей с событием MainScreenAppear составила:\n",
      "  - в группе 246: 98.67%\n",
      "  - в группе 247: 98.57%\n",
      "\n",
      "p-значение:  0.753\n",
      "\n",
      "\u001b[1mВывод:\u001b[0m\n",
      "Не получилось отвергнуть нулевую гипотезу, нет оснований считать конверсии разными.\n",
      "\n",
      "\n",
      "\u001b[1m\u001b[34m2\u001b[0m\u001b[1m\u001b[34m) Этап \u001b[0m\u001b[1m\u001b[34mOffersScreenAppear\u001b[0m\u001b[1m\u001b[34m, группы \u001b[0m\u001b[1m\u001b[34m246\u001b[0m\u001b[1m\u001b[34m и \u001b[0m\u001b[1m\u001b[34m247\u001b[0m\u001b[1m\u001b[34m: поиск статистически значимых отличий в доле пользователей c событием\u001b[0m\n",
      "\n",
      "Доля пользователей с событием OffersScreenAppear составила:\n",
      "  - в группе 246: 62.10%\n",
      "  - в группе 247: 60.51%\n",
      "\n",
      "p-значение:  0.248\n",
      "\n",
      "\u001b[1mВывод:\u001b[0m\n",
      "Не получилось отвергнуть нулевую гипотезу, нет оснований считать конверсии разными.\n",
      "\n",
      "\n",
      "\u001b[1m\u001b[34m3\u001b[0m\u001b[1m\u001b[34m) Этап \u001b[0m\u001b[1m\u001b[34mCartScreenAppear\u001b[0m\u001b[1m\u001b[34m, группы \u001b[0m\u001b[1m\u001b[34m246\u001b[0m\u001b[1m\u001b[34m и \u001b[0m\u001b[1m\u001b[34m247\u001b[0m\u001b[1m\u001b[34m: поиск статистически значимых отличий в доле пользователей c событием\u001b[0m\n",
      "\n",
      "Доля пользователей с событием CartScreenAppear составила:\n",
      "  - в группе 246: 50.99%\n",
      "  - в группе 247: 49.28%\n",
      "\n",
      "p-значение:  0.229\n",
      "\n",
      "\u001b[1mВывод:\u001b[0m\n",
      "Не получилось отвергнуть нулевую гипотезу, нет оснований считать конверсии разными.\n",
      "\n",
      "\n",
      "\u001b[1m\u001b[34m4\u001b[0m\u001b[1m\u001b[34m) Этап \u001b[0m\u001b[1m\u001b[34mPaymentScreenSuccessful\u001b[0m\u001b[1m\u001b[34m, группы \u001b[0m\u001b[1m\u001b[34m246\u001b[0m\u001b[1m\u001b[34m и \u001b[0m\u001b[1m\u001b[34m247\u001b[0m\u001b[1m\u001b[34m: поиск статистически значимых отличий в доле пользователей c событием\u001b[0m\n",
      "\n",
      "Доля пользователей с событием PaymentScreenSuccessful составила:\n",
      "  - в группе 246: 48.33%\n",
      "  - в группе 247: 46.10%\n",
      "\n",
      "p-значение:  0.114\n",
      "\n",
      "\u001b[1mВывод:\u001b[0m\n",
      "Не получилось отвергнуть нулевую гипотезу, нет оснований считать конверсии разными.\n",
      "\n",
      "\n"
     ]
    }
   ],
   "source": [
    "alpha = 0.00625 #Задаем уровень статистической значимости\n",
    "group_a = 246  # Задаем идентификаторы сравниваемых групп\n",
    "group_b = 247\n",
    "stage_test(logs_clean, alpha, group_a, group_b)"
   ]
  },
  {
   "cell_type": "markdown",
   "metadata": {},
   "source": [
    "Мы не обнаружили статистически значимых отличий между конверсиями контрольных групп для каждого из этапов воронки, значит контрольная группа сформирована корректно.\n",
    "\n",
    "Объеденим контрольные группы 246 и 247 в одну для сравнения с группой 248. Для этого присвоим обеим группам общий идентификатор 246."
   ]
  },
  {
   "cell_type": "code",
   "execution_count": 34,
   "metadata": {},
   "outputs": [],
   "source": [
    "#На всякий случай произведем объединение выборок в новом датафрейме logs_u\n",
    "logs_u = logs_clean\n",
    "logs_u['exp_id'] = logs_u['exp_id'].replace(247,246)"
   ]
  },
  {
   "cell_type": "code",
   "execution_count": 35,
   "metadata": {},
   "outputs": [
    {
     "data": {
      "text/plain": [
       "exp_id\n",
       "246    4995\n",
       "248    2535\n",
       "Name: device_id_hash, dtype: int64"
      ]
     },
     "execution_count": 35,
     "metadata": {},
     "output_type": "execute_result"
    }
   ],
   "source": [
    "logs_u.groupby('exp_id')['device_id_hash'].nunique()"
   ]
  },
  {
   "cell_type": "markdown",
   "metadata": {},
   "source": [
    "#### 5.3. Сравнение конверсии в группах А и В"
   ]
  },
  {
   "cell_type": "markdown",
   "metadata": {},
   "source": [
    "С помощью функции conversion_test проверим наличие статистически значимых различий между группами А и В на каждом этапе эксперимента.\n",
    "\n",
    "Уровень статистической значимости для всех этапов примем равным 0.00625 - с учетом поправки Бонферрони, о которой мы писали в п. 5.2.\n",
    "\n",
    "Гипотезы для всех этапов сформулируем так:\\\n",
    "Н0: Доля пользователей, имеющих данный тип события от всех пользователей в выборке для объединенной группы А **не отличается** от доли таких пользователей для группы B.\\\n",
    "Н1: Доля пользователей, имеющих данный тип события от всех пользователей в выборке для объединенной группы А **отличается** от доли таких пользователей для группы B."
   ]
  },
  {
   "cell_type": "code",
   "execution_count": 36,
   "metadata": {},
   "outputs": [
    {
     "name": "stdout",
     "output_type": "stream",
     "text": [
      "\u001b[1m\u001b[34m1\u001b[0m\u001b[1m\u001b[34m) Этап \u001b[0m\u001b[1m\u001b[34mMainScreenAppear\u001b[0m\u001b[1m\u001b[34m, группы \u001b[0m\u001b[1m\u001b[34m246\u001b[0m\u001b[1m\u001b[34m и \u001b[0m\u001b[1m\u001b[34m248\u001b[0m\u001b[1m\u001b[34m: поиск статистически значимых отличий в доле пользователей c событием\u001b[0m\n",
      "\n",
      "Доля пользователей с событием MainScreenAppear составила:\n",
      "  - в группе 246: 98.62%\n",
      "  - в группе 248: 98.34%\n",
      "\n",
      "p-значение:  0.349\n",
      "\n",
      "\u001b[1mВывод:\u001b[0m\n",
      "Не получилось отвергнуть нулевую гипотезу, нет оснований считать конверсии разными.\n",
      "\n",
      "\n",
      "\u001b[1m\u001b[34m2\u001b[0m\u001b[1m\u001b[34m) Этап \u001b[0m\u001b[1m\u001b[34mOffersScreenAppear\u001b[0m\u001b[1m\u001b[34m, группы \u001b[0m\u001b[1m\u001b[34m246\u001b[0m\u001b[1m\u001b[34m и \u001b[0m\u001b[1m\u001b[34m248\u001b[0m\u001b[1m\u001b[34m: поиск статистически значимых отличий в доле пользователей c событием\u001b[0m\n",
      "\n",
      "Доля пользователей с событием OffersScreenAppear составила:\n",
      "  - в группе 246: 61.30%\n",
      "  - в группе 248: 60.39%\n",
      "\n",
      "p-значение:  0.446\n",
      "\n",
      "\u001b[1mВывод:\u001b[0m\n",
      "Не получилось отвергнуть нулевую гипотезу, нет оснований считать конверсии разными.\n",
      "\n",
      "\n",
      "\u001b[1m\u001b[34m3\u001b[0m\u001b[1m\u001b[34m) Этап \u001b[0m\u001b[1m\u001b[34mCartScreenAppear\u001b[0m\u001b[1m\u001b[34m, группы \u001b[0m\u001b[1m\u001b[34m246\u001b[0m\u001b[1m\u001b[34m и \u001b[0m\u001b[1m\u001b[34m248\u001b[0m\u001b[1m\u001b[34m: поиск статистически значимых отличий в доле пользователей c событием\u001b[0m\n",
      "\n",
      "Доля пользователей с событием CartScreenAppear составила:\n",
      "  - в группе 246: 50.13%\n",
      "  - в группе 248: 48.52%\n",
      "\n",
      "p-значение:  0.187\n",
      "\n",
      "\u001b[1mВывод:\u001b[0m\n",
      "Не получилось отвергнуть нулевую гипотезу, нет оснований считать конверсии разными.\n",
      "\n",
      "\n",
      "\u001b[1m\u001b[34m4\u001b[0m\u001b[1m\u001b[34m) Этап \u001b[0m\u001b[1m\u001b[34mPaymentScreenSuccessful\u001b[0m\u001b[1m\u001b[34m, группы \u001b[0m\u001b[1m\u001b[34m246\u001b[0m\u001b[1m\u001b[34m и \u001b[0m\u001b[1m\u001b[34m248\u001b[0m\u001b[1m\u001b[34m: поиск статистически значимых отличий в доле пользователей c событием\u001b[0m\n",
      "\n",
      "Доля пользователей с событием PaymentScreenSuccessful составила:\n",
      "  - в группе 246: 47.21%\n",
      "  - в группе 248: 46.59%\n",
      "\n",
      "p-значение:  0.611\n",
      "\n",
      "\u001b[1mВывод:\u001b[0m\n",
      "Не получилось отвергнуть нулевую гипотезу, нет оснований считать конверсии разными.\n",
      "\n",
      "\n"
     ]
    }
   ],
   "source": [
    "alpha = 0.00625 #Задаем уровень статистической значимости\n",
    "group_a = 246  # Задаем идентификаторы сравниваемых групп\n",
    "group_b = 248\n",
    "stage_test(logs_u, alpha, group_a, group_b)"
   ]
  },
  {
   "cell_type": "markdown",
   "metadata": {},
   "source": [
    "По результатам сравнения на каждом из этапов мы не обнаружили статистически значимых различий между группами по количеству пользователей с каждым из событий \n",
    "\n",
    "С одной стороны мы не видим осязаемых улучшений от изменения шрифта, поэтому стоит ли вкладывать в это ресурсы? С другой стороны мы убедились в том, что после изменения шрифта движение пользователей по воронке не ухудшится."
   ]
  },
  {
   "cell_type": "markdown",
   "metadata": {},
   "source": [
    "### 6. Общий вывод"
   ]
  },
  {
   "cell_type": "markdown",
   "metadata": {},
   "source": [
    "Мы провели исследование с целью установить повлияет ли изменение шрифтов во всем приложении по продаже продуктов питания на конверсию.\n",
    "\n",
    "**1 Подготовка данных**\n",
    "\n",
    "В рамках подготовки данных мы:\n",
    "- нормализовали формат названий столбцов,\n",
    "- конвертировали время событий из юниксового в datetime,\n",
    "- удалили полные дубликаты (413 строк - менее 1% от массива),\n",
    "- добавили столбец с датами событий.\n",
    "\n",
    "\n",
    "**2 Изучение и проверка данных**\n",
    "\n",
    "Мы определили реальный период наблюдения: с 1 по 7 августа. Данные за предыдущие дни отбросили, т.к. они содержали значительно меньший объем событий: удалив данные за 6 дней мы потеряли записи всего 1% от всех событий и 17 пользователей.\n",
    "\n",
    "\n",
    "**3 Анализ воронки событий**\n",
    "\n",
    "3.1. Мы установили, что в логах присутствует информация о 5 типах событий:\n",
    "1) MainScreenAppear - пользователю отображается главный экран приложения.\\\n",
    "2) OffersScreenAppear - пользователю отображается каталог товаров.\\\n",
    "3) CartScreenAppear - пользователю отображается страница с  содержимым корзины.\\\n",
    "4) PaymentScreenSuccessful - пользователь видит экран успешной оплаты.\\\n",
    "5) Tutorial - пользователь видит инструкцию к приложению.\\\n",
    "События с 1 по 4 являются этапами воронки в соответствующей последовательности.\\\n",
    "Мы пришли к выводу, что событие Tutorial не является этапом воронки и исключили его из датафрейма.\\\n",
    "Кроме того, мы исключили из датафрейма записи пользователей, у которых отсутствовал верх воронки (событие MainScreenAppear), чтобы они не искажали конверсию. Верхний этап воронки этих пользователей мы удалили в пункте 2, когда убирали лишние даты.\n",
    "\n",
    "3.2. Мы обнаружили, что наибольшее число пользователей (40%) теряется на переходе от главного экрана к каталогу товаров (MainScreenAppear -> OffersScreenAppear). Таким образом для стоит сосредоточиться на улучшении конверсии этого этапа.\n",
    "\n",
    "\n",
    "**4 Анализ результатов эксперимента**\n",
    "\n",
    "4.1. Мы разработали функцию stage_test для проверки наличия статистически значимых различий между контрольными группами по доле пользователей с каждым из типов событий от общего числа пользователей.\n",
    "\n",
    "4.2. Мы применили поправку Бонферрони, исходя из того, что проведём 8 сравнений на одном датасете, и рассчитали уровень статистистической значимости равным 0.00625.\n",
    "\n",
    "4.3. Мы установили, что доля пользователей с каждым из типов событий не имеет статистически значимых отличий и пришли к выводу, что контрольная группа сформирована корректно. \n",
    "\n",
    "4.5. Мы долю пользователей с каждым из типов событий тестовой группы с соответствующими долями контрольной группы на каждом этапе и там тоже не обнаружили статистически значимое различий.\n",
    "\n",
    "4.6. Отметим, что полученные p-value имеют такие значения, что даже применение более мягких поправок для уровня статистической значимости, не изменило бы результаты сравнений.\n",
    "\n",
    "4.7. **С учетом полученных результатов мы можем сказать, что**\n",
    "- Изменение шрифта в приложении скорее всего не окажет негативного влияния на продажи. Говоря по-простому, новые шрифты не мешают пользователям пользоваться приложением.\n",
    "- Обнаружить статистически значимое улучшение удалось не удалось ни для одного из типов событий. То есть нет оснований говорить о том, что новые шрифты улучшат пользовательский опыт так, что повлияет на их движение по воронке.\n",
    "- Таким образом мы не возражаем против изменения шрифтов, но и не ожидаем от них улучшений в продажах."
   ]
  }
 ],
 "metadata": {
  "ExecuteTimeLog": [
   {
    "duration": 1273,
    "start_time": "2023-07-15T11:24:29.948Z"
   },
   {
    "duration": 673,
    "start_time": "2023-07-15T11:24:35.564Z"
   },
   {
    "duration": 270,
    "start_time": "2023-07-15T11:25:06.232Z"
   },
   {
    "duration": 18,
    "start_time": "2023-07-15T11:25:33.285Z"
   },
   {
    "duration": 11,
    "start_time": "2023-07-15T11:26:02.203Z"
   },
   {
    "duration": 144,
    "start_time": "2023-07-15T11:29:04.703Z"
   },
   {
    "duration": 9,
    "start_time": "2023-07-15T11:29:05.803Z"
   },
   {
    "duration": 23,
    "start_time": "2023-07-15T11:29:09.622Z"
   },
   {
    "duration": 7,
    "start_time": "2023-07-15T11:29:59.172Z"
   },
   {
    "duration": 6,
    "start_time": "2023-07-15T11:32:16.056Z"
   },
   {
    "duration": 17,
    "start_time": "2023-07-15T11:32:24.651Z"
   },
   {
    "duration": 112,
    "start_time": "2023-07-15T11:32:38.280Z"
   },
   {
    "duration": 56,
    "start_time": "2023-07-15T11:32:42.865Z"
   },
   {
    "duration": 71,
    "start_time": "2023-07-15T11:40:32.198Z"
   },
   {
    "duration": 64,
    "start_time": "2023-07-15T11:40:40.984Z"
   },
   {
    "duration": 19,
    "start_time": "2023-07-15T11:40:49.714Z"
   },
   {
    "duration": 4,
    "start_time": "2023-07-15T11:41:11.019Z"
   },
   {
    "duration": 1541,
    "start_time": "2023-07-15T16:05:13.952Z"
   },
   {
    "duration": 776,
    "start_time": "2023-07-15T16:05:17.175Z"
   },
   {
    "duration": 16,
    "start_time": "2023-07-15T16:05:17.953Z"
   },
   {
    "duration": 20,
    "start_time": "2023-07-15T16:05:21.830Z"
   },
   {
    "duration": 1128,
    "start_time": "2023-07-15T16:06:57.440Z"
   },
   {
    "duration": 7,
    "start_time": "2023-07-15T16:07:12.124Z"
   },
   {
    "duration": 22,
    "start_time": "2023-07-15T16:07:13.157Z"
   },
   {
    "duration": 16,
    "start_time": "2023-07-15T16:09:24.285Z"
   },
   {
    "duration": 75,
    "start_time": "2023-07-15T16:09:33.934Z"
   },
   {
    "duration": 93,
    "start_time": "2023-07-15T16:09:35.148Z"
   },
   {
    "duration": 21,
    "start_time": "2023-07-15T16:09:35.909Z"
   },
   {
    "duration": 15,
    "start_time": "2023-07-15T16:09:49.983Z"
   },
   {
    "duration": 13,
    "start_time": "2023-07-15T16:10:58.327Z"
   },
   {
    "duration": 21,
    "start_time": "2023-07-15T16:11:05.543Z"
   },
   {
    "duration": 9,
    "start_time": "2023-07-15T16:11:12.129Z"
   },
   {
    "duration": 10,
    "start_time": "2023-07-15T16:12:11.748Z"
   },
   {
    "duration": 11,
    "start_time": "2023-07-15T16:12:14.133Z"
   },
   {
    "duration": 9,
    "start_time": "2023-07-15T16:12:39.844Z"
   },
   {
    "duration": 12,
    "start_time": "2023-07-15T16:13:27.786Z"
   },
   {
    "duration": 89,
    "start_time": "2023-07-15T16:13:43.721Z"
   },
   {
    "duration": 1357,
    "start_time": "2023-07-15T16:14:03.448Z"
   },
   {
    "duration": 179,
    "start_time": "2023-07-15T16:14:04.807Z"
   },
   {
    "duration": 14,
    "start_time": "2023-07-15T16:14:04.990Z"
   },
   {
    "duration": 28,
    "start_time": "2023-07-15T16:14:05.005Z"
   },
   {
    "duration": 27,
    "start_time": "2023-07-15T16:14:05.036Z"
   },
   {
    "duration": 20,
    "start_time": "2023-07-15T16:14:05.066Z"
   },
   {
    "duration": 118,
    "start_time": "2023-07-15T16:14:05.088Z"
   },
   {
    "duration": 91,
    "start_time": "2023-07-15T16:14:05.208Z"
   },
   {
    "duration": 36,
    "start_time": "2023-07-15T16:14:05.301Z"
   },
   {
    "duration": 43,
    "start_time": "2023-07-15T16:14:05.339Z"
   },
   {
    "duration": 214,
    "start_time": "2023-07-15T16:14:05.385Z"
   },
   {
    "duration": 89,
    "start_time": "2023-07-15T16:14:41.216Z"
   },
   {
    "duration": 13,
    "start_time": "2023-07-15T16:14:55.762Z"
   },
   {
    "duration": 19,
    "start_time": "2023-07-15T16:48:56.171Z"
   },
   {
    "duration": 12,
    "start_time": "2023-07-15T17:01:35.292Z"
   },
   {
    "duration": 9,
    "start_time": "2023-07-15T17:11:49.261Z"
   },
   {
    "duration": 4,
    "start_time": "2023-07-15T18:36:06.445Z"
   },
   {
    "duration": 17,
    "start_time": "2023-07-15T18:36:59.840Z"
   },
   {
    "duration": 23,
    "start_time": "2023-07-15T18:37:08.336Z"
   },
   {
    "duration": 12,
    "start_time": "2023-07-15T18:37:16.326Z"
   },
   {
    "duration": 670,
    "start_time": "2023-07-15T18:39:39.693Z"
   },
   {
    "duration": 680,
    "start_time": "2023-07-15T18:39:59.381Z"
   },
   {
    "duration": 1366,
    "start_time": "2023-07-15T18:43:17.877Z"
   },
   {
    "duration": 591,
    "start_time": "2023-07-15T18:48:43.177Z"
   },
   {
    "duration": 575,
    "start_time": "2023-07-15T18:49:00.234Z"
   },
   {
    "duration": 517,
    "start_time": "2023-07-15T18:50:44.882Z"
   },
   {
    "duration": 492,
    "start_time": "2023-07-15T18:54:56.407Z"
   },
   {
    "duration": 499,
    "start_time": "2023-07-15T18:55:03.377Z"
   },
   {
    "duration": 488,
    "start_time": "2023-07-15T18:55:17.736Z"
   },
   {
    "duration": 475,
    "start_time": "2023-07-15T18:55:28.304Z"
   },
   {
    "duration": 304,
    "start_time": "2023-07-15T19:07:37.920Z"
   },
   {
    "duration": 12,
    "start_time": "2023-07-15T19:08:10.455Z"
   },
   {
    "duration": 9,
    "start_time": "2023-07-15T19:08:19.222Z"
   },
   {
    "duration": 10,
    "start_time": "2023-07-15T19:08:56.721Z"
   },
   {
    "duration": 12,
    "start_time": "2023-07-15T19:09:34.099Z"
   },
   {
    "duration": 11,
    "start_time": "2023-07-15T19:09:40.671Z"
   },
   {
    "duration": 11,
    "start_time": "2023-07-15T19:10:59.620Z"
   },
   {
    "duration": 5,
    "start_time": "2023-07-15T19:11:10.641Z"
   },
   {
    "duration": 4,
    "start_time": "2023-07-15T19:11:22.799Z"
   },
   {
    "duration": 3,
    "start_time": "2023-07-15T19:11:36.150Z"
   },
   {
    "duration": 74,
    "start_time": "2023-07-15T19:11:59.649Z"
   },
   {
    "duration": 3,
    "start_time": "2023-07-15T19:12:08.401Z"
   },
   {
    "duration": 39,
    "start_time": "2023-07-15T19:12:12.387Z"
   },
   {
    "duration": 455,
    "start_time": "2023-07-15T19:12:30.094Z"
   },
   {
    "duration": 9,
    "start_time": "2023-07-15T19:16:25.285Z"
   },
   {
    "duration": 4,
    "start_time": "2023-07-15T19:18:47.489Z"
   },
   {
    "duration": 4,
    "start_time": "2023-07-15T19:19:30.234Z"
   },
   {
    "duration": 6,
    "start_time": "2023-07-15T19:20:27.566Z"
   },
   {
    "duration": 182,
    "start_time": "2023-07-15T19:21:35.808Z"
   },
   {
    "duration": 134,
    "start_time": "2023-07-15T19:24:51.509Z"
   },
   {
    "duration": 38,
    "start_time": "2023-07-15T19:25:46.687Z"
   },
   {
    "duration": 21,
    "start_time": "2023-07-15T19:28:02.475Z"
   },
   {
    "duration": 210,
    "start_time": "2023-07-15T19:28:52.336Z"
   },
   {
    "duration": 223,
    "start_time": "2023-07-15T19:28:58.471Z"
   },
   {
    "duration": 234,
    "start_time": "2023-07-15T19:59:56.041Z"
   },
   {
    "duration": 44,
    "start_time": "2023-07-15T20:06:40.585Z"
   },
   {
    "duration": 55,
    "start_time": "2023-07-15T20:08:05.796Z"
   },
   {
    "duration": 113,
    "start_time": "2023-07-15T20:11:59.612Z"
   },
   {
    "duration": 189,
    "start_time": "2023-07-15T20:12:33.046Z"
   },
   {
    "duration": 52,
    "start_time": "2023-07-15T20:13:57.137Z"
   },
   {
    "duration": 51,
    "start_time": "2023-07-15T20:14:07.472Z"
   },
   {
    "duration": 56,
    "start_time": "2023-07-15T20:14:26.805Z"
   },
   {
    "duration": 51,
    "start_time": "2023-07-15T20:16:29.297Z"
   },
   {
    "duration": 1077,
    "start_time": "2023-07-15T20:16:43.778Z"
   },
   {
    "duration": 71,
    "start_time": "2023-07-15T20:16:53.581Z"
   },
   {
    "duration": 60,
    "start_time": "2023-07-15T20:17:01.771Z"
   },
   {
    "duration": 64,
    "start_time": "2023-07-15T20:17:21.997Z"
   },
   {
    "duration": 50,
    "start_time": "2023-07-15T20:17:50.532Z"
   },
   {
    "duration": 58,
    "start_time": "2023-07-15T20:19:30.936Z"
   },
   {
    "duration": 72,
    "start_time": "2023-07-15T20:19:43.978Z"
   },
   {
    "duration": 8,
    "start_time": "2023-07-15T20:20:00.484Z"
   },
   {
    "duration": 8,
    "start_time": "2023-07-15T20:20:12.939Z"
   },
   {
    "duration": 75,
    "start_time": "2023-07-15T20:21:49.337Z"
   },
   {
    "duration": 60,
    "start_time": "2023-07-15T20:23:06.065Z"
   },
   {
    "duration": 58,
    "start_time": "2023-07-15T20:23:17.536Z"
   },
   {
    "duration": 59,
    "start_time": "2023-07-15T20:23:51.591Z"
   },
   {
    "duration": 58,
    "start_time": "2023-07-15T20:24:15.404Z"
   },
   {
    "duration": 73,
    "start_time": "2023-07-15T20:25:24.076Z"
   },
   {
    "duration": 1658,
    "start_time": "2023-07-15T20:41:30.439Z"
   },
   {
    "duration": 170,
    "start_time": "2023-07-15T20:41:32.100Z"
   },
   {
    "duration": 135,
    "start_time": "2023-07-15T20:41:32.272Z"
   },
   {
    "duration": 0,
    "start_time": "2023-07-15T20:41:32.410Z"
   },
   {
    "duration": 0,
    "start_time": "2023-07-15T20:41:32.411Z"
   },
   {
    "duration": 0,
    "start_time": "2023-07-15T20:41:32.412Z"
   },
   {
    "duration": 0,
    "start_time": "2023-07-15T20:41:32.414Z"
   },
   {
    "duration": 0,
    "start_time": "2023-07-15T20:41:32.414Z"
   },
   {
    "duration": 0,
    "start_time": "2023-07-15T20:41:32.416Z"
   },
   {
    "duration": 0,
    "start_time": "2023-07-15T20:41:32.417Z"
   },
   {
    "duration": 0,
    "start_time": "2023-07-15T20:41:32.418Z"
   },
   {
    "duration": 0,
    "start_time": "2023-07-15T20:41:32.420Z"
   },
   {
    "duration": 0,
    "start_time": "2023-07-15T20:41:32.421Z"
   },
   {
    "duration": 0,
    "start_time": "2023-07-15T20:41:32.422Z"
   },
   {
    "duration": 0,
    "start_time": "2023-07-15T20:41:32.423Z"
   },
   {
    "duration": 0,
    "start_time": "2023-07-15T20:41:32.424Z"
   },
   {
    "duration": 0,
    "start_time": "2023-07-15T20:41:32.427Z"
   },
   {
    "duration": 0,
    "start_time": "2023-07-15T20:41:32.428Z"
   },
   {
    "duration": 0,
    "start_time": "2023-07-15T20:41:32.429Z"
   },
   {
    "duration": 1,
    "start_time": "2023-07-15T20:41:32.460Z"
   },
   {
    "duration": 0,
    "start_time": "2023-07-15T20:41:32.462Z"
   },
   {
    "duration": 0,
    "start_time": "2023-07-15T20:41:32.463Z"
   },
   {
    "duration": 0,
    "start_time": "2023-07-15T20:41:32.464Z"
   },
   {
    "duration": 0,
    "start_time": "2023-07-15T20:41:32.465Z"
   },
   {
    "duration": 0,
    "start_time": "2023-07-15T20:41:32.466Z"
   },
   {
    "duration": 0,
    "start_time": "2023-07-15T20:41:32.467Z"
   },
   {
    "duration": 1177,
    "start_time": "2023-07-15T20:41:52.207Z"
   },
   {
    "duration": 158,
    "start_time": "2023-07-15T20:41:53.386Z"
   },
   {
    "duration": 15,
    "start_time": "2023-07-15T20:41:53.545Z"
   },
   {
    "duration": 19,
    "start_time": "2023-07-15T20:41:53.561Z"
   },
   {
    "duration": 6,
    "start_time": "2023-07-15T20:41:53.582Z"
   },
   {
    "duration": 14,
    "start_time": "2023-07-15T20:41:53.590Z"
   },
   {
    "duration": 92,
    "start_time": "2023-07-15T20:41:53.605Z"
   },
   {
    "duration": 79,
    "start_time": "2023-07-15T20:41:53.699Z"
   },
   {
    "duration": 19,
    "start_time": "2023-07-15T20:41:53.779Z"
   },
   {
    "duration": 85,
    "start_time": "2023-07-15T20:41:53.801Z"
   },
   {
    "duration": 10,
    "start_time": "2023-07-15T20:41:53.887Z"
   },
   {
    "duration": 81,
    "start_time": "2023-07-15T20:41:53.899Z"
   },
   {
    "duration": 4,
    "start_time": "2023-07-15T20:41:53.982Z"
   },
   {
    "duration": 8,
    "start_time": "2023-07-15T20:41:53.988Z"
   },
   {
    "duration": 11,
    "start_time": "2023-07-15T20:41:53.998Z"
   },
   {
    "duration": 1366,
    "start_time": "2023-07-15T20:41:54.011Z"
   },
   {
    "duration": 521,
    "start_time": "2023-07-15T20:41:55.379Z"
   },
   {
    "duration": 34,
    "start_time": "2023-07-15T20:41:55.901Z"
   },
   {
    "duration": 491,
    "start_time": "2023-07-15T20:41:55.937Z"
   },
   {
    "duration": 8,
    "start_time": "2023-07-15T20:41:56.430Z"
   },
   {
    "duration": 20,
    "start_time": "2023-07-15T20:41:56.440Z"
   },
   {
    "duration": 20,
    "start_time": "2023-07-15T20:41:56.462Z"
   },
   {
    "duration": 179,
    "start_time": "2023-07-15T20:41:56.484Z"
   },
   {
    "duration": 21,
    "start_time": "2023-07-15T20:41:56.665Z"
   },
   {
    "duration": 228,
    "start_time": "2023-07-15T20:41:56.688Z"
   },
   {
    "duration": 71,
    "start_time": "2023-07-15T20:41:56.918Z"
   },
   {
    "duration": 63,
    "start_time": "2023-07-15T20:42:56.085Z"
   },
   {
    "duration": 29,
    "start_time": "2023-07-15T20:47:55.339Z"
   },
   {
    "duration": 6,
    "start_time": "2023-07-15T20:54:06.483Z"
   },
   {
    "duration": 105,
    "start_time": "2023-07-15T20:55:39.288Z"
   },
   {
    "duration": 5,
    "start_time": "2023-07-15T20:55:51.213Z"
   },
   {
    "duration": 9,
    "start_time": "2023-07-15T20:56:02.863Z"
   },
   {
    "duration": 5,
    "start_time": "2023-07-15T20:56:33.690Z"
   },
   {
    "duration": 9,
    "start_time": "2023-07-15T20:56:35.086Z"
   },
   {
    "duration": 58,
    "start_time": "2023-07-15T20:57:23.736Z"
   },
   {
    "duration": 5,
    "start_time": "2023-07-15T20:57:24.500Z"
   },
   {
    "duration": 9,
    "start_time": "2023-07-15T20:57:25.503Z"
   },
   {
    "duration": 131,
    "start_time": "2023-07-15T21:08:03.017Z"
   },
   {
    "duration": 33,
    "start_time": "2023-07-15T21:08:22.080Z"
   },
   {
    "duration": 9,
    "start_time": "2023-07-15T21:08:47.946Z"
   },
   {
    "duration": 9,
    "start_time": "2023-07-15T21:08:59.380Z"
   },
   {
    "duration": 41,
    "start_time": "2023-07-15T21:10:26.823Z"
   },
   {
    "duration": 58,
    "start_time": "2023-07-15T21:10:29.858Z"
   },
   {
    "duration": 5,
    "start_time": "2023-07-15T21:10:30.196Z"
   },
   {
    "duration": 10,
    "start_time": "2023-07-15T21:10:30.968Z"
   },
   {
    "duration": 33,
    "start_time": "2023-07-15T21:13:21.939Z"
   },
   {
    "duration": 12,
    "start_time": "2023-07-15T21:16:12.038Z"
   },
   {
    "duration": 10,
    "start_time": "2023-07-15T21:16:44.363Z"
   },
   {
    "duration": 34,
    "start_time": "2023-07-15T21:17:00.446Z"
   },
   {
    "duration": 37,
    "start_time": "2023-07-15T21:17:15.634Z"
   },
   {
    "duration": 35,
    "start_time": "2023-07-15T21:17:37.540Z"
   },
   {
    "duration": 1367,
    "start_time": "2023-07-16T09:39:22.699Z"
   },
   {
    "duration": 531,
    "start_time": "2023-07-16T09:39:24.068Z"
   },
   {
    "duration": 11,
    "start_time": "2023-07-16T09:39:24.601Z"
   },
   {
    "duration": 40,
    "start_time": "2023-07-16T09:39:24.614Z"
   },
   {
    "duration": 13,
    "start_time": "2023-07-16T09:39:24.657Z"
   },
   {
    "duration": 38,
    "start_time": "2023-07-16T09:39:24.672Z"
   },
   {
    "duration": 101,
    "start_time": "2023-07-16T09:39:24.713Z"
   },
   {
    "duration": 85,
    "start_time": "2023-07-16T09:39:24.816Z"
   },
   {
    "duration": 19,
    "start_time": "2023-07-16T09:39:24.903Z"
   },
   {
    "duration": 112,
    "start_time": "2023-07-16T09:39:24.935Z"
   },
   {
    "duration": 9,
    "start_time": "2023-07-16T09:39:25.049Z"
   },
   {
    "duration": 13,
    "start_time": "2023-07-16T09:39:25.060Z"
   },
   {
    "duration": 14,
    "start_time": "2023-07-16T09:39:25.074Z"
   },
   {
    "duration": 9,
    "start_time": "2023-07-16T09:39:25.090Z"
   },
   {
    "duration": 1192,
    "start_time": "2023-07-16T09:39:25.100Z"
   },
   {
    "duration": 506,
    "start_time": "2023-07-16T09:39:26.293Z"
   },
   {
    "duration": 46,
    "start_time": "2023-07-16T09:39:26.800Z"
   },
   {
    "duration": 419,
    "start_time": "2023-07-16T09:39:26.851Z"
   },
   {
    "duration": 7,
    "start_time": "2023-07-16T09:39:27.271Z"
   },
   {
    "duration": 4,
    "start_time": "2023-07-16T09:39:27.280Z"
   },
   {
    "duration": 6,
    "start_time": "2023-07-16T09:39:27.286Z"
   },
   {
    "duration": 187,
    "start_time": "2023-07-16T09:39:27.294Z"
   },
   {
    "duration": 18,
    "start_time": "2023-07-16T09:39:27.483Z"
   },
   {
    "duration": 224,
    "start_time": "2023-07-16T09:39:27.503Z"
   },
   {
    "duration": 69,
    "start_time": "2023-07-16T09:39:27.732Z"
   },
   {
    "duration": 32,
    "start_time": "2023-07-16T09:39:27.803Z"
   },
   {
    "duration": 113,
    "start_time": "2023-07-16T09:39:27.836Z"
   },
   {
    "duration": 53,
    "start_time": "2023-07-16T09:39:27.952Z"
   },
   {
    "duration": 5,
    "start_time": "2023-07-16T09:39:28.006Z"
   },
   {
    "duration": 24,
    "start_time": "2023-07-16T09:39:28.012Z"
   },
   {
    "duration": 31,
    "start_time": "2023-07-16T09:39:28.040Z"
   },
   {
    "duration": 30,
    "start_time": "2023-07-16T09:39:28.072Z"
   },
   {
    "duration": 57,
    "start_time": "2023-07-16T09:39:28.104Z"
   },
   {
    "duration": 33,
    "start_time": "2023-07-16T09:39:28.163Z"
   },
   {
    "duration": 2,
    "start_time": "2023-07-16T09:39:28.198Z"
   },
   {
    "duration": 1356,
    "start_time": "2023-07-16T17:07:11.957Z"
   },
   {
    "duration": 481,
    "start_time": "2023-07-16T17:07:13.316Z"
   },
   {
    "duration": 12,
    "start_time": "2023-07-16T17:07:13.799Z"
   },
   {
    "duration": 24,
    "start_time": "2023-07-16T17:07:13.812Z"
   },
   {
    "duration": 6,
    "start_time": "2023-07-16T17:07:13.838Z"
   },
   {
    "duration": 23,
    "start_time": "2023-07-16T17:07:13.846Z"
   },
   {
    "duration": 61,
    "start_time": "2023-07-16T17:07:13.871Z"
   },
   {
    "duration": 75,
    "start_time": "2023-07-16T17:07:13.933Z"
   },
   {
    "duration": 46,
    "start_time": "2023-07-16T17:07:14.011Z"
   },
   {
    "duration": 75,
    "start_time": "2023-07-16T17:07:14.060Z"
   },
   {
    "duration": 22,
    "start_time": "2023-07-16T17:07:14.137Z"
   },
   {
    "duration": 9,
    "start_time": "2023-07-16T17:07:14.161Z"
   },
   {
    "duration": 9,
    "start_time": "2023-07-16T17:07:14.172Z"
   },
   {
    "duration": 12,
    "start_time": "2023-07-16T17:07:14.184Z"
   },
   {
    "duration": 1353,
    "start_time": "2023-07-16T17:07:14.198Z"
   },
   {
    "duration": 541,
    "start_time": "2023-07-16T17:07:15.553Z"
   },
   {
    "duration": 34,
    "start_time": "2023-07-16T17:07:16.096Z"
   },
   {
    "duration": 465,
    "start_time": "2023-07-16T17:07:16.132Z"
   },
   {
    "duration": 8,
    "start_time": "2023-07-16T17:07:16.599Z"
   },
   {
    "duration": 5,
    "start_time": "2023-07-16T17:07:16.608Z"
   },
   {
    "duration": 20,
    "start_time": "2023-07-16T17:07:16.614Z"
   },
   {
    "duration": 197,
    "start_time": "2023-07-16T17:07:16.636Z"
   },
   {
    "duration": 27,
    "start_time": "2023-07-16T17:07:16.835Z"
   },
   {
    "duration": 238,
    "start_time": "2023-07-16T17:07:16.865Z"
   },
   {
    "duration": 75,
    "start_time": "2023-07-16T17:07:17.105Z"
   },
   {
    "duration": 26,
    "start_time": "2023-07-16T17:07:17.182Z"
   },
   {
    "duration": 128,
    "start_time": "2023-07-16T17:07:17.209Z"
   },
   {
    "duration": 64,
    "start_time": "2023-07-16T17:07:17.339Z"
   },
   {
    "duration": 22,
    "start_time": "2023-07-16T17:07:17.405Z"
   },
   {
    "duration": 22,
    "start_time": "2023-07-16T17:07:17.429Z"
   },
   {
    "duration": 38,
    "start_time": "2023-07-16T17:07:17.452Z"
   },
   {
    "duration": 32,
    "start_time": "2023-07-16T17:07:17.492Z"
   },
   {
    "duration": 53,
    "start_time": "2023-07-16T17:07:17.526Z"
   },
   {
    "duration": 34,
    "start_time": "2023-07-16T17:07:17.580Z"
   },
   {
    "duration": 3,
    "start_time": "2023-07-16T17:07:17.616Z"
   },
   {
    "duration": 39,
    "start_time": "2023-07-16T18:01:12.702Z"
   },
   {
    "duration": 13,
    "start_time": "2023-07-16T18:01:26.861Z"
   },
   {
    "duration": 25,
    "start_time": "2023-07-16T18:04:37.311Z"
   },
   {
    "duration": 161,
    "start_time": "2023-07-16T18:27:56.344Z"
   },
   {
    "duration": 4,
    "start_time": "2023-07-16T18:28:45.601Z"
   },
   {
    "duration": 56,
    "start_time": "2023-07-16T18:28:52.611Z"
   },
   {
    "duration": 6,
    "start_time": "2023-07-16T18:37:31.766Z"
   },
   {
    "duration": 3,
    "start_time": "2023-07-16T18:42:58.842Z"
   },
   {
    "duration": 60,
    "start_time": "2023-07-16T18:42:59.353Z"
   },
   {
    "duration": 57,
    "start_time": "2023-07-16T18:44:26.597Z"
   },
   {
    "duration": 48,
    "start_time": "2023-07-16T18:45:25.457Z"
   },
   {
    "duration": 6,
    "start_time": "2023-07-16T18:48:19.012Z"
   },
   {
    "duration": 51,
    "start_time": "2023-07-16T18:48:42.626Z"
   },
   {
    "duration": 49,
    "start_time": "2023-07-16T18:48:44.745Z"
   },
   {
    "duration": 5,
    "start_time": "2023-07-16T18:48:48.315Z"
   },
   {
    "duration": 56,
    "start_time": "2023-07-16T18:48:48.867Z"
   },
   {
    "duration": 54,
    "start_time": "2023-07-16T18:48:50.336Z"
   },
   {
    "duration": 51,
    "start_time": "2023-07-16T18:48:53.569Z"
   },
   {
    "duration": 47,
    "start_time": "2023-07-16T18:49:16.339Z"
   },
   {
    "duration": 11,
    "start_time": "2023-07-16T18:59:16.643Z"
   },
   {
    "duration": 11,
    "start_time": "2023-07-16T19:01:43.138Z"
   },
   {
    "duration": 11,
    "start_time": "2023-07-16T19:02:01.039Z"
   },
   {
    "duration": 16,
    "start_time": "2023-07-16T19:04:39.193Z"
   },
   {
    "duration": 7,
    "start_time": "2023-07-16T19:05:34.250Z"
   },
   {
    "duration": 38,
    "start_time": "2023-07-16T19:05:42.804Z"
   },
   {
    "duration": 55,
    "start_time": "2023-07-16T19:12:16.105Z"
   },
   {
    "duration": 56,
    "start_time": "2023-07-16T19:15:16.427Z"
   },
   {
    "duration": 47,
    "start_time": "2023-07-16T19:15:56.124Z"
   },
   {
    "duration": 7,
    "start_time": "2023-07-16T19:28:23.242Z"
   },
   {
    "duration": 1331,
    "start_time": "2023-07-16T19:28:29.507Z"
   },
   {
    "duration": 157,
    "start_time": "2023-07-16T19:28:30.841Z"
   },
   {
    "duration": 12,
    "start_time": "2023-07-16T19:28:31.000Z"
   },
   {
    "duration": 50,
    "start_time": "2023-07-16T19:28:31.014Z"
   },
   {
    "duration": 38,
    "start_time": "2023-07-16T19:28:31.067Z"
   },
   {
    "duration": 46,
    "start_time": "2023-07-16T19:28:31.107Z"
   },
   {
    "duration": 132,
    "start_time": "2023-07-16T19:28:31.155Z"
   },
   {
    "duration": 79,
    "start_time": "2023-07-16T19:28:31.289Z"
   },
   {
    "duration": 19,
    "start_time": "2023-07-16T19:28:31.371Z"
   },
   {
    "duration": 110,
    "start_time": "2023-07-16T19:28:31.392Z"
   },
   {
    "duration": 11,
    "start_time": "2023-07-16T19:28:31.503Z"
   },
   {
    "duration": 23,
    "start_time": "2023-07-16T19:28:31.516Z"
   },
   {
    "duration": 32,
    "start_time": "2023-07-16T19:28:31.542Z"
   },
   {
    "duration": 31,
    "start_time": "2023-07-16T19:28:31.578Z"
   },
   {
    "duration": 1395,
    "start_time": "2023-07-16T19:28:31.611Z"
   },
   {
    "duration": 527,
    "start_time": "2023-07-16T19:28:33.007Z"
   },
   {
    "duration": 32,
    "start_time": "2023-07-16T19:28:33.536Z"
   },
   {
    "duration": 482,
    "start_time": "2023-07-16T19:28:33.570Z"
   },
   {
    "duration": 7,
    "start_time": "2023-07-16T19:28:34.054Z"
   },
   {
    "duration": 5,
    "start_time": "2023-07-16T19:28:34.062Z"
   },
   {
    "duration": 10,
    "start_time": "2023-07-16T19:28:34.069Z"
   },
   {
    "duration": 200,
    "start_time": "2023-07-16T19:28:34.080Z"
   },
   {
    "duration": 18,
    "start_time": "2023-07-16T19:28:34.282Z"
   },
   {
    "duration": 224,
    "start_time": "2023-07-16T19:28:34.302Z"
   },
   {
    "duration": 69,
    "start_time": "2023-07-16T19:28:34.528Z"
   },
   {
    "duration": 26,
    "start_time": "2023-07-16T19:28:34.599Z"
   },
   {
    "duration": 136,
    "start_time": "2023-07-16T19:28:34.627Z"
   },
   {
    "duration": 54,
    "start_time": "2023-07-16T19:28:34.765Z"
   },
   {
    "duration": 4,
    "start_time": "2023-07-16T19:28:34.821Z"
   },
   {
    "duration": 27,
    "start_time": "2023-07-16T19:28:34.827Z"
   },
   {
    "duration": 34,
    "start_time": "2023-07-16T19:28:34.855Z"
   },
   {
    "duration": 32,
    "start_time": "2023-07-16T19:28:34.890Z"
   },
   {
    "duration": 56,
    "start_time": "2023-07-16T19:28:34.923Z"
   },
   {
    "duration": 34,
    "start_time": "2023-07-16T19:28:34.980Z"
   },
   {
    "duration": 6,
    "start_time": "2023-07-16T19:28:35.015Z"
   },
   {
    "duration": 13,
    "start_time": "2023-07-16T19:28:35.023Z"
   },
   {
    "duration": 66,
    "start_time": "2023-07-16T19:28:35.051Z"
   },
   {
    "duration": 60,
    "start_time": "2023-07-16T19:28:35.118Z"
   },
   {
    "duration": 50,
    "start_time": "2023-07-16T19:28:35.179Z"
   },
   {
    "duration": 21,
    "start_time": "2023-07-16T19:28:35.231Z"
   },
   {
    "duration": 32,
    "start_time": "2023-07-16T19:28:35.256Z"
   },
   {
    "duration": 103,
    "start_time": "2023-07-16T19:28:35.289Z"
   },
   {
    "duration": 67,
    "start_time": "2023-07-16T19:28:35.395Z"
   },
   {
    "duration": 51,
    "start_time": "2023-07-16T19:28:35.464Z"
   },
   {
    "duration": 1618,
    "start_time": "2023-07-17T05:46:41.894Z"
   },
   {
    "duration": 1688,
    "start_time": "2023-07-17T05:46:43.514Z"
   },
   {
    "duration": 14,
    "start_time": "2023-07-17T05:46:45.204Z"
   },
   {
    "duration": 34,
    "start_time": "2023-07-17T05:46:45.221Z"
   },
   {
    "duration": 14,
    "start_time": "2023-07-17T05:46:45.257Z"
   },
   {
    "duration": 16,
    "start_time": "2023-07-17T05:46:45.273Z"
   },
   {
    "duration": 96,
    "start_time": "2023-07-17T05:46:45.291Z"
   },
   {
    "duration": 87,
    "start_time": "2023-07-17T05:46:45.389Z"
   },
   {
    "duration": 21,
    "start_time": "2023-07-17T05:46:45.478Z"
   },
   {
    "duration": 96,
    "start_time": "2023-07-17T05:46:45.502Z"
   },
   {
    "duration": 14,
    "start_time": "2023-07-17T05:46:45.601Z"
   },
   {
    "duration": 6,
    "start_time": "2023-07-17T05:46:45.617Z"
   },
   {
    "duration": 12,
    "start_time": "2023-07-17T05:46:45.626Z"
   },
   {
    "duration": 31,
    "start_time": "2023-07-17T05:46:45.640Z"
   },
   {
    "duration": 1436,
    "start_time": "2023-07-17T05:46:45.673Z"
   },
   {
    "duration": 567,
    "start_time": "2023-07-17T05:46:47.111Z"
   },
   {
    "duration": 32,
    "start_time": "2023-07-17T05:46:47.680Z"
   },
   {
    "duration": 469,
    "start_time": "2023-07-17T05:46:47.714Z"
   },
   {
    "duration": 8,
    "start_time": "2023-07-17T05:46:48.185Z"
   },
   {
    "duration": 7,
    "start_time": "2023-07-17T05:46:48.195Z"
   },
   {
    "duration": 6,
    "start_time": "2023-07-17T05:46:48.204Z"
   },
   {
    "duration": 231,
    "start_time": "2023-07-17T05:46:48.212Z"
   },
   {
    "duration": 26,
    "start_time": "2023-07-17T05:46:48.445Z"
   },
   {
    "duration": 230,
    "start_time": "2023-07-17T05:46:48.473Z"
   },
   {
    "duration": 79,
    "start_time": "2023-07-17T05:46:48.705Z"
   },
   {
    "duration": 25,
    "start_time": "2023-07-17T05:46:48.786Z"
   },
   {
    "duration": 144,
    "start_time": "2023-07-17T05:46:48.813Z"
   },
   {
    "duration": 58,
    "start_time": "2023-07-17T05:46:48.960Z"
   },
   {
    "duration": 4,
    "start_time": "2023-07-17T05:46:49.020Z"
   },
   {
    "duration": 12,
    "start_time": "2023-07-17T05:46:49.026Z"
   },
   {
    "duration": 59,
    "start_time": "2023-07-17T05:46:49.039Z"
   },
   {
    "duration": 35,
    "start_time": "2023-07-17T05:46:49.100Z"
   },
   {
    "duration": 60,
    "start_time": "2023-07-17T05:46:49.137Z"
   },
   {
    "duration": 38,
    "start_time": "2023-07-17T05:46:49.198Z"
   },
   {
    "duration": 6,
    "start_time": "2023-07-17T05:46:49.238Z"
   },
   {
    "duration": 50,
    "start_time": "2023-07-17T05:46:49.246Z"
   },
   {
    "duration": 81,
    "start_time": "2023-07-17T05:46:49.298Z"
   },
   {
    "duration": 58,
    "start_time": "2023-07-17T05:46:49.381Z"
   },
   {
    "duration": 65,
    "start_time": "2023-07-17T05:46:49.441Z"
   },
   {
    "duration": 6,
    "start_time": "2023-07-17T05:46:49.508Z"
   },
   {
    "duration": 40,
    "start_time": "2023-07-17T05:46:49.516Z"
   },
   {
    "duration": 72,
    "start_time": "2023-07-17T05:46:49.557Z"
   },
   {
    "duration": 75,
    "start_time": "2023-07-17T05:46:49.631Z"
   },
   {
    "duration": 61,
    "start_time": "2023-07-17T05:46:49.708Z"
   },
   {
    "duration": 55,
    "start_time": "2023-07-17T05:54:50.940Z"
   },
   {
    "duration": 1611,
    "start_time": "2023-07-17T07:25:43.191Z"
   },
   {
    "duration": 762,
    "start_time": "2023-07-17T07:25:44.804Z"
   },
   {
    "duration": 17,
    "start_time": "2023-07-17T07:25:45.568Z"
   },
   {
    "duration": 37,
    "start_time": "2023-07-17T07:25:45.588Z"
   },
   {
    "duration": 40,
    "start_time": "2023-07-17T07:25:45.628Z"
   },
   {
    "duration": 18,
    "start_time": "2023-07-17T07:25:45.671Z"
   },
   {
    "duration": 110,
    "start_time": "2023-07-17T07:25:45.692Z"
   },
   {
    "duration": 106,
    "start_time": "2023-07-17T07:25:45.804Z"
   },
   {
    "duration": 33,
    "start_time": "2023-07-17T07:25:45.912Z"
   },
   {
    "duration": 120,
    "start_time": "2023-07-17T07:25:45.948Z"
   },
   {
    "duration": 10,
    "start_time": "2023-07-17T07:25:46.071Z"
   },
   {
    "duration": 15,
    "start_time": "2023-07-17T07:25:46.082Z"
   },
   {
    "duration": 22,
    "start_time": "2023-07-17T07:25:46.098Z"
   },
   {
    "duration": 26,
    "start_time": "2023-07-17T07:25:46.122Z"
   },
   {
    "duration": 1359,
    "start_time": "2023-07-17T07:25:46.167Z"
   },
   {
    "duration": 514,
    "start_time": "2023-07-17T07:25:47.528Z"
   },
   {
    "duration": 38,
    "start_time": "2023-07-17T07:25:48.044Z"
   },
   {
    "duration": 484,
    "start_time": "2023-07-17T07:25:48.084Z"
   },
   {
    "duration": 24,
    "start_time": "2023-07-17T07:25:48.569Z"
   },
   {
    "duration": 5,
    "start_time": "2023-07-17T07:25:48.595Z"
   },
   {
    "duration": 14,
    "start_time": "2023-07-17T07:25:48.602Z"
   },
   {
    "duration": 199,
    "start_time": "2023-07-17T07:25:48.617Z"
   },
   {
    "duration": 17,
    "start_time": "2023-07-17T07:25:48.817Z"
   },
   {
    "duration": 232,
    "start_time": "2023-07-17T07:25:48.836Z"
   },
   {
    "duration": 62,
    "start_time": "2023-07-17T07:25:49.070Z"
   },
   {
    "duration": 43,
    "start_time": "2023-07-17T07:25:49.133Z"
   },
   {
    "duration": 117,
    "start_time": "2023-07-17T07:25:49.177Z"
   },
   {
    "duration": 50,
    "start_time": "2023-07-17T07:25:49.297Z"
   },
   {
    "duration": 4,
    "start_time": "2023-07-17T07:25:49.349Z"
   },
   {
    "duration": 22,
    "start_time": "2023-07-17T07:25:49.355Z"
   },
   {
    "duration": 38,
    "start_time": "2023-07-17T07:25:49.379Z"
   },
   {
    "duration": 66,
    "start_time": "2023-07-17T07:25:49.419Z"
   },
   {
    "duration": 29,
    "start_time": "2023-07-17T07:25:49.488Z"
   },
   {
    "duration": 61,
    "start_time": "2023-07-17T07:25:49.519Z"
   },
   {
    "duration": 35,
    "start_time": "2023-07-17T07:25:49.582Z"
   },
   {
    "duration": 7,
    "start_time": "2023-07-17T07:25:49.619Z"
   },
   {
    "duration": 18,
    "start_time": "2023-07-17T07:25:49.628Z"
   },
   {
    "duration": 71,
    "start_time": "2023-07-17T07:25:49.647Z"
   },
   {
    "duration": 71,
    "start_time": "2023-07-17T07:25:49.720Z"
   },
   {
    "duration": 47,
    "start_time": "2023-07-17T07:25:49.793Z"
   },
   {
    "duration": 26,
    "start_time": "2023-07-17T07:25:49.842Z"
   },
   {
    "duration": 39,
    "start_time": "2023-07-17T07:25:49.870Z"
   },
   {
    "duration": 83,
    "start_time": "2023-07-17T07:25:49.910Z"
   },
   {
    "duration": 55,
    "start_time": "2023-07-17T07:25:49.995Z"
   },
   {
    "duration": 49,
    "start_time": "2023-07-17T07:25:50.069Z"
   },
   {
    "duration": 24,
    "start_time": "2023-07-17T07:26:40.521Z"
   },
   {
    "duration": 24,
    "start_time": "2023-07-17T07:27:01.272Z"
   },
   {
    "duration": 19,
    "start_time": "2023-07-17T07:27:14.304Z"
   },
   {
    "duration": 422,
    "start_time": "2023-07-17T07:27:15.016Z"
   },
   {
    "duration": 4,
    "start_time": "2023-07-17T07:32:05.788Z"
   },
   {
    "duration": 145,
    "start_time": "2023-07-17T07:32:06.162Z"
   },
   {
    "duration": 7,
    "start_time": "2023-07-17T07:32:06.364Z"
   },
   {
    "duration": 19,
    "start_time": "2023-07-17T07:32:06.652Z"
   },
   {
    "duration": 8,
    "start_time": "2023-07-17T07:32:08.619Z"
   },
   {
    "duration": 10,
    "start_time": "2023-07-17T07:32:08.867Z"
   },
   {
    "duration": 64,
    "start_time": "2023-07-17T07:32:09.050Z"
   },
   {
    "duration": 57,
    "start_time": "2023-07-17T07:32:09.518Z"
   },
   {
    "duration": 19,
    "start_time": "2023-07-17T07:32:09.717Z"
   },
   {
    "duration": 68,
    "start_time": "2023-07-17T07:32:10.887Z"
   },
   {
    "duration": 11,
    "start_time": "2023-07-17T07:32:11.122Z"
   },
   {
    "duration": 4,
    "start_time": "2023-07-17T07:32:12.698Z"
   },
   {
    "duration": 7,
    "start_time": "2023-07-17T07:32:12.991Z"
   },
   {
    "duration": 10,
    "start_time": "2023-07-17T07:32:13.488Z"
   },
   {
    "duration": 1297,
    "start_time": "2023-07-17T07:32:16.650Z"
   },
   {
    "duration": 406,
    "start_time": "2023-07-17T07:32:17.949Z"
   },
   {
    "duration": 32,
    "start_time": "2023-07-17T07:32:23.951Z"
   },
   {
    "duration": 410,
    "start_time": "2023-07-17T07:32:24.316Z"
   },
   {
    "duration": 22,
    "start_time": "2023-07-17T07:32:29.425Z"
   },
   {
    "duration": 23,
    "start_time": "2023-07-17T07:32:36.949Z"
   },
   {
    "duration": 95,
    "start_time": "2023-07-17T07:34:33.795Z"
   },
   {
    "duration": 4,
    "start_time": "2023-07-17T07:35:04.916Z"
   },
   {
    "duration": 5,
    "start_time": "2023-07-17T07:36:53.751Z"
   },
   {
    "duration": 93,
    "start_time": "2023-07-17T07:41:24.691Z"
   },
   {
    "duration": 483,
    "start_time": "2023-07-17T07:44:57.306Z"
   },
   {
    "duration": 197,
    "start_time": "2023-07-17T07:47:10.884Z"
   },
   {
    "duration": 163,
    "start_time": "2023-07-17T07:49:05.800Z"
   },
   {
    "duration": 97,
    "start_time": "2023-07-17T07:49:30.672Z"
   },
   {
    "duration": 88,
    "start_time": "2023-07-17T07:50:55.892Z"
   },
   {
    "duration": 73,
    "start_time": "2023-07-17T07:52:36.490Z"
   },
   {
    "duration": 121,
    "start_time": "2023-07-17T07:52:54.005Z"
   },
   {
    "duration": 89,
    "start_time": "2023-07-17T07:53:10.906Z"
   },
   {
    "duration": 42,
    "start_time": "2023-07-17T07:54:04.963Z"
   },
   {
    "duration": 39,
    "start_time": "2023-07-17T07:54:43.389Z"
   },
   {
    "duration": 46,
    "start_time": "2023-07-17T07:55:10.458Z"
   },
   {
    "duration": 40,
    "start_time": "2023-07-17T07:56:58.074Z"
   },
   {
    "duration": 45,
    "start_time": "2023-07-17T07:59:56.651Z"
   },
   {
    "duration": 11,
    "start_time": "2023-07-17T08:00:33.012Z"
   },
   {
    "duration": 41,
    "start_time": "2023-07-17T08:00:38.327Z"
   },
   {
    "duration": 41,
    "start_time": "2023-07-17T08:05:51.544Z"
   },
   {
    "duration": 44,
    "start_time": "2023-07-17T08:06:01.908Z"
   },
   {
    "duration": 219,
    "start_time": "2023-07-17T08:07:04.469Z"
   },
   {
    "duration": 197,
    "start_time": "2023-07-17T08:07:15.050Z"
   },
   {
    "duration": 220,
    "start_time": "2023-07-17T08:07:45.063Z"
   },
   {
    "duration": 185,
    "start_time": "2023-07-17T08:08:56.052Z"
   },
   {
    "duration": 199,
    "start_time": "2023-07-17T08:09:03.464Z"
   },
   {
    "duration": 172,
    "start_time": "2023-07-17T08:09:17.975Z"
   },
   {
    "duration": 306,
    "start_time": "2023-07-17T08:09:26.674Z"
   },
   {
    "duration": 177,
    "start_time": "2023-07-17T08:09:33.447Z"
   },
   {
    "duration": 185,
    "start_time": "2023-07-17T08:09:41.247Z"
   },
   {
    "duration": 78,
    "start_time": "2023-07-17T08:10:18.416Z"
   },
   {
    "duration": 144,
    "start_time": "2023-07-17T08:10:28.513Z"
   },
   {
    "duration": 152,
    "start_time": "2023-07-17T08:10:44.992Z"
   },
   {
    "duration": 182,
    "start_time": "2023-07-17T08:11:02.521Z"
   },
   {
    "duration": 158,
    "start_time": "2023-07-17T08:11:10.028Z"
   },
   {
    "duration": 161,
    "start_time": "2023-07-17T08:11:18.440Z"
   },
   {
    "duration": 163,
    "start_time": "2023-07-17T08:11:23.249Z"
   },
   {
    "duration": 175,
    "start_time": "2023-07-17T08:11:33.728Z"
   },
   {
    "duration": 158,
    "start_time": "2023-07-17T08:11:38.116Z"
   },
   {
    "duration": 446,
    "start_time": "2023-07-17T08:12:51.094Z"
   },
   {
    "duration": 466,
    "start_time": "2023-07-17T08:13:04.007Z"
   },
   {
    "duration": 397,
    "start_time": "2023-07-17T08:13:34.991Z"
   },
   {
    "duration": 415,
    "start_time": "2023-07-17T08:14:52.021Z"
   },
   {
    "duration": 557,
    "start_time": "2023-07-17T08:16:27.349Z"
   },
   {
    "duration": 417,
    "start_time": "2023-07-17T08:16:58.827Z"
   },
   {
    "duration": 396,
    "start_time": "2023-07-17T08:18:04.595Z"
   },
   {
    "duration": 142,
    "start_time": "2023-07-17T08:18:30.047Z"
   },
   {
    "duration": 238,
    "start_time": "2023-07-17T08:18:35.007Z"
   },
   {
    "duration": 77,
    "start_time": "2023-07-17T08:29:33.109Z"
   },
   {
    "duration": 608,
    "start_time": "2023-07-17T08:30:10.125Z"
   },
   {
    "duration": 7,
    "start_time": "2023-07-17T08:32:02.352Z"
   },
   {
    "duration": 33,
    "start_time": "2023-07-17T08:32:50.267Z"
   },
   {
    "duration": 6,
    "start_time": "2023-07-17T08:33:32.921Z"
   },
   {
    "duration": 33,
    "start_time": "2023-07-17T08:33:35.212Z"
   },
   {
    "duration": 6,
    "start_time": "2023-07-17T08:36:08.569Z"
   },
   {
    "duration": 53,
    "start_time": "2023-07-17T08:36:09.519Z"
   },
   {
    "duration": 11,
    "start_time": "2023-07-17T08:39:18.095Z"
   },
   {
    "duration": 18,
    "start_time": "2023-07-17T08:39:24.540Z"
   },
   {
    "duration": 8,
    "start_time": "2023-07-17T08:41:33.900Z"
   },
   {
    "duration": 87,
    "start_time": "2023-07-17T08:41:35.441Z"
   },
   {
    "duration": 8,
    "start_time": "2023-07-17T08:41:45.347Z"
   },
   {
    "duration": 197,
    "start_time": "2023-07-17T08:41:46.075Z"
   },
   {
    "duration": 82,
    "start_time": "2023-07-17T08:43:48.709Z"
   },
   {
    "duration": 185,
    "start_time": "2023-07-17T08:43:49.283Z"
   },
   {
    "duration": 706,
    "start_time": "2023-07-17T08:45:02.155Z"
   },
   {
    "duration": 0,
    "start_time": "2023-07-17T08:45:02.864Z"
   },
   {
    "duration": 8,
    "start_time": "2023-07-17T08:45:50.576Z"
   },
   {
    "duration": 187,
    "start_time": "2023-07-17T08:45:51.357Z"
   },
   {
    "duration": 7,
    "start_time": "2023-07-17T08:48:49.323Z"
   },
   {
    "duration": 102,
    "start_time": "2023-07-17T08:48:49.886Z"
   },
   {
    "duration": 4,
    "start_time": "2023-07-17T08:49:20.308Z"
   },
   {
    "duration": 11,
    "start_time": "2023-07-17T08:49:57.506Z"
   },
   {
    "duration": 71,
    "start_time": "2023-07-17T08:50:24.172Z"
   },
   {
    "duration": 10,
    "start_time": "2023-07-17T08:50:29.712Z"
   },
   {
    "duration": 3,
    "start_time": "2023-07-17T08:50:59.707Z"
   },
   {
    "duration": 3,
    "start_time": "2023-07-17T08:51:06.793Z"
   },
   {
    "duration": 8,
    "start_time": "2023-07-17T08:51:46.772Z"
   },
   {
    "duration": 101,
    "start_time": "2023-07-17T08:51:55.714Z"
   },
   {
    "duration": 86,
    "start_time": "2023-07-17T08:52:21.774Z"
   },
   {
    "duration": 13,
    "start_time": "2023-07-17T08:52:46.152Z"
   },
   {
    "duration": 8,
    "start_time": "2023-07-17T08:54:24.911Z"
   },
   {
    "duration": 199,
    "start_time": "2023-07-17T08:54:31.275Z"
   },
   {
    "duration": 10,
    "start_time": "2023-07-17T08:55:34.552Z"
   },
   {
    "duration": 3,
    "start_time": "2023-07-17T08:56:43.553Z"
   },
   {
    "duration": 8,
    "start_time": "2023-07-17T08:59:02.501Z"
   },
   {
    "duration": 196,
    "start_time": "2023-07-17T08:59:06.284Z"
   },
   {
    "duration": 10,
    "start_time": "2023-07-17T08:59:46.020Z"
   },
   {
    "duration": 205,
    "start_time": "2023-07-17T08:59:48.966Z"
   },
   {
    "duration": 97,
    "start_time": "2023-07-17T09:02:20.610Z"
   },
   {
    "duration": 7,
    "start_time": "2023-07-17T09:02:41.915Z"
   },
   {
    "duration": 8,
    "start_time": "2023-07-17T09:03:08.758Z"
   },
   {
    "duration": 196,
    "start_time": "2023-07-17T09:03:12.612Z"
   },
   {
    "duration": 9,
    "start_time": "2023-07-17T09:05:39.562Z"
   },
   {
    "duration": 218,
    "start_time": "2023-07-17T09:05:43.516Z"
   },
   {
    "duration": 9,
    "start_time": "2023-07-17T09:07:37.191Z"
   },
   {
    "duration": 183,
    "start_time": "2023-07-17T09:07:39.758Z"
   },
   {
    "duration": 116,
    "start_time": "2023-07-17T09:16:11.579Z"
   },
   {
    "duration": 1176,
    "start_time": "2023-07-17T09:17:31.814Z"
   },
   {
    "duration": 175,
    "start_time": "2023-07-17T09:17:32.992Z"
   },
   {
    "duration": 11,
    "start_time": "2023-07-17T09:17:33.169Z"
   },
   {
    "duration": 25,
    "start_time": "2023-07-17T09:17:33.182Z"
   },
   {
    "duration": 8,
    "start_time": "2023-07-17T09:17:33.209Z"
   },
   {
    "duration": 17,
    "start_time": "2023-07-17T09:17:33.218Z"
   },
   {
    "duration": 84,
    "start_time": "2023-07-17T09:17:33.237Z"
   },
   {
    "duration": 76,
    "start_time": "2023-07-17T09:17:33.323Z"
   },
   {
    "duration": 20,
    "start_time": "2023-07-17T09:17:33.401Z"
   },
   {
    "duration": 90,
    "start_time": "2023-07-17T09:17:33.423Z"
   },
   {
    "duration": 10,
    "start_time": "2023-07-17T09:17:33.515Z"
   },
   {
    "duration": 10,
    "start_time": "2023-07-17T09:17:33.527Z"
   },
   {
    "duration": 30,
    "start_time": "2023-07-17T09:17:33.539Z"
   },
   {
    "duration": 13,
    "start_time": "2023-07-17T09:17:33.573Z"
   },
   {
    "duration": 1291,
    "start_time": "2023-07-17T09:17:33.588Z"
   },
   {
    "duration": 265,
    "start_time": "2023-07-17T09:17:34.881Z"
   },
   {
    "duration": 0,
    "start_time": "2023-07-17T09:17:35.148Z"
   },
   {
    "duration": 0,
    "start_time": "2023-07-17T09:17:35.149Z"
   },
   {
    "duration": 0,
    "start_time": "2023-07-17T09:17:35.151Z"
   },
   {
    "duration": 0,
    "start_time": "2023-07-17T09:17:35.152Z"
   },
   {
    "duration": 0,
    "start_time": "2023-07-17T09:17:35.153Z"
   },
   {
    "duration": 0,
    "start_time": "2023-07-17T09:17:35.155Z"
   },
   {
    "duration": 0,
    "start_time": "2023-07-17T09:17:35.157Z"
   },
   {
    "duration": 0,
    "start_time": "2023-07-17T09:17:35.168Z"
   },
   {
    "duration": 0,
    "start_time": "2023-07-17T09:17:35.170Z"
   },
   {
    "duration": 0,
    "start_time": "2023-07-17T09:17:35.171Z"
   },
   {
    "duration": 0,
    "start_time": "2023-07-17T09:17:35.172Z"
   },
   {
    "duration": 0,
    "start_time": "2023-07-17T09:17:35.173Z"
   },
   {
    "duration": 0,
    "start_time": "2023-07-17T09:17:35.174Z"
   },
   {
    "duration": 0,
    "start_time": "2023-07-17T09:17:35.175Z"
   },
   {
    "duration": 0,
    "start_time": "2023-07-17T09:17:35.176Z"
   },
   {
    "duration": 0,
    "start_time": "2023-07-17T09:17:35.177Z"
   },
   {
    "duration": 0,
    "start_time": "2023-07-17T09:17:35.179Z"
   },
   {
    "duration": 0,
    "start_time": "2023-07-17T09:17:35.180Z"
   },
   {
    "duration": 0,
    "start_time": "2023-07-17T09:17:35.181Z"
   },
   {
    "duration": 0,
    "start_time": "2023-07-17T09:17:35.182Z"
   },
   {
    "duration": 0,
    "start_time": "2023-07-17T09:17:35.183Z"
   },
   {
    "duration": 0,
    "start_time": "2023-07-17T09:17:35.184Z"
   },
   {
    "duration": 0,
    "start_time": "2023-07-17T09:17:35.185Z"
   },
   {
    "duration": 0,
    "start_time": "2023-07-17T09:17:35.186Z"
   },
   {
    "duration": 1239,
    "start_time": "2023-07-17T09:18:28.550Z"
   },
   {
    "duration": 155,
    "start_time": "2023-07-17T09:18:29.791Z"
   },
   {
    "duration": 11,
    "start_time": "2023-07-17T09:18:29.948Z"
   },
   {
    "duration": 22,
    "start_time": "2023-07-17T09:18:29.967Z"
   },
   {
    "duration": 8,
    "start_time": "2023-07-17T09:18:29.992Z"
   },
   {
    "duration": 16,
    "start_time": "2023-07-17T09:18:30.002Z"
   },
   {
    "duration": 121,
    "start_time": "2023-07-17T09:18:30.020Z"
   },
   {
    "duration": 71,
    "start_time": "2023-07-17T09:18:30.143Z"
   },
   {
    "duration": 21,
    "start_time": "2023-07-17T09:18:30.216Z"
   },
   {
    "duration": 113,
    "start_time": "2023-07-17T09:18:30.239Z"
   },
   {
    "duration": 36,
    "start_time": "2023-07-17T09:18:30.354Z"
   },
   {
    "duration": 20,
    "start_time": "2023-07-17T09:18:30.392Z"
   },
   {
    "duration": 24,
    "start_time": "2023-07-17T09:18:30.414Z"
   },
   {
    "duration": 28,
    "start_time": "2023-07-17T09:18:30.441Z"
   },
   {
    "duration": 1280,
    "start_time": "2023-07-17T09:18:30.471Z"
   },
   {
    "duration": 522,
    "start_time": "2023-07-17T09:18:31.752Z"
   },
   {
    "duration": 30,
    "start_time": "2023-07-17T09:18:32.275Z"
   },
   {
    "duration": 468,
    "start_time": "2023-07-17T09:18:32.307Z"
   },
   {
    "duration": 23,
    "start_time": "2023-07-17T09:18:32.777Z"
   },
   {
    "duration": 15,
    "start_time": "2023-07-17T09:18:32.802Z"
   },
   {
    "duration": 159,
    "start_time": "2023-07-17T09:18:32.818Z"
   },
   {
    "duration": 18,
    "start_time": "2023-07-17T09:18:32.978Z"
   },
   {
    "duration": 300,
    "start_time": "2023-07-17T09:18:32.998Z"
   },
   {
    "duration": 69,
    "start_time": "2023-07-17T09:18:33.300Z"
   },
   {
    "duration": 23,
    "start_time": "2023-07-17T09:18:33.371Z"
   },
   {
    "duration": 45,
    "start_time": "2023-07-17T09:18:33.396Z"
   },
   {
    "duration": 75,
    "start_time": "2023-07-17T09:18:33.443Z"
   },
   {
    "duration": 4,
    "start_time": "2023-07-17T09:18:33.520Z"
   },
   {
    "duration": 13,
    "start_time": "2023-07-17T09:18:33.526Z"
   },
   {
    "duration": 128,
    "start_time": "2023-07-17T09:18:33.541Z"
   },
   {
    "duration": 0,
    "start_time": "2023-07-17T09:18:33.670Z"
   },
   {
    "duration": 0,
    "start_time": "2023-07-17T09:18:33.671Z"
   },
   {
    "duration": 0,
    "start_time": "2023-07-17T09:18:33.673Z"
   },
   {
    "duration": 0,
    "start_time": "2023-07-17T09:18:33.674Z"
   },
   {
    "duration": 0,
    "start_time": "2023-07-17T09:18:33.675Z"
   },
   {
    "duration": 0,
    "start_time": "2023-07-17T09:18:33.676Z"
   },
   {
    "duration": 0,
    "start_time": "2023-07-17T09:18:33.677Z"
   },
   {
    "duration": 0,
    "start_time": "2023-07-17T09:18:33.678Z"
   },
   {
    "duration": 0,
    "start_time": "2023-07-17T09:18:33.679Z"
   },
   {
    "duration": 0,
    "start_time": "2023-07-17T09:18:33.680Z"
   },
   {
    "duration": 10,
    "start_time": "2023-07-17T09:19:24.220Z"
   },
   {
    "duration": 360,
    "start_time": "2023-07-17T09:19:34.752Z"
   },
   {
    "duration": 42,
    "start_time": "2023-07-17T09:19:53.409Z"
   },
   {
    "duration": 41,
    "start_time": "2023-07-17T09:20:07.393Z"
   },
   {
    "duration": 39,
    "start_time": "2023-07-17T09:20:17.352Z"
   },
   {
    "duration": 38,
    "start_time": "2023-07-17T09:20:18.053Z"
   },
   {
    "duration": 46,
    "start_time": "2023-07-17T09:20:26.725Z"
   },
   {
    "duration": 32,
    "start_time": "2023-07-17T09:20:27.616Z"
   },
   {
    "duration": 8,
    "start_time": "2023-07-17T09:22:26.939Z"
   },
   {
    "duration": 160,
    "start_time": "2023-07-17T09:22:28.824Z"
   },
   {
    "duration": 15,
    "start_time": "2023-07-17T09:24:24.284Z"
   },
   {
    "duration": 71,
    "start_time": "2023-07-17T09:24:41.336Z"
   },
   {
    "duration": 14,
    "start_time": "2023-07-17T09:24:46.185Z"
   },
   {
    "duration": 8,
    "start_time": "2023-07-17T09:25:27.591Z"
   },
   {
    "duration": 127,
    "start_time": "2023-07-17T09:25:29.253Z"
   },
   {
    "duration": 68,
    "start_time": "2023-07-17T09:27:49.562Z"
   },
   {
    "duration": 50,
    "start_time": "2023-07-17T09:27:58.614Z"
   },
   {
    "duration": 64,
    "start_time": "2023-07-17T09:29:04.019Z"
   },
   {
    "duration": 55,
    "start_time": "2023-07-17T09:30:38.751Z"
   },
   {
    "duration": 56,
    "start_time": "2023-07-17T09:30:51.961Z"
   },
   {
    "duration": 54,
    "start_time": "2023-07-17T09:32:07.345Z"
   },
   {
    "duration": 10,
    "start_time": "2023-07-17T09:32:37.326Z"
   },
   {
    "duration": 111,
    "start_time": "2023-07-17T09:32:42.363Z"
   },
   {
    "duration": 74,
    "start_time": "2023-07-17T09:34:37.825Z"
   },
   {
    "duration": 8,
    "start_time": "2023-07-17T09:34:46.960Z"
   },
   {
    "duration": 8,
    "start_time": "2023-07-17T09:35:43.938Z"
   },
   {
    "duration": 97,
    "start_time": "2023-07-17T09:35:51.890Z"
   },
   {
    "duration": 174,
    "start_time": "2023-07-17T09:36:50.125Z"
   },
   {
    "duration": 8,
    "start_time": "2023-07-17T09:37:14.323Z"
   },
   {
    "duration": 93,
    "start_time": "2023-07-17T09:37:16.491Z"
   },
   {
    "duration": 9,
    "start_time": "2023-07-17T09:37:53.604Z"
   },
   {
    "duration": 131,
    "start_time": "2023-07-17T09:37:55.257Z"
   },
   {
    "duration": 77,
    "start_time": "2023-07-17T09:39:31.642Z"
   },
   {
    "duration": 8,
    "start_time": "2023-07-17T09:39:47.039Z"
   },
   {
    "duration": 136,
    "start_time": "2023-07-17T09:39:50.109Z"
   },
   {
    "duration": 10,
    "start_time": "2023-07-17T09:40:37.395Z"
   },
   {
    "duration": 146,
    "start_time": "2023-07-17T09:40:42.224Z"
   },
   {
    "duration": 6,
    "start_time": "2023-07-17T09:41:01.069Z"
   },
   {
    "duration": 33,
    "start_time": "2023-07-17T09:41:02.628Z"
   },
   {
    "duration": 168,
    "start_time": "2023-07-17T09:41:08.151Z"
   },
   {
    "duration": 6,
    "start_time": "2023-07-17T09:42:05.612Z"
   },
   {
    "duration": 31,
    "start_time": "2023-07-17T09:42:06.420Z"
   },
   {
    "duration": 142,
    "start_time": "2023-07-17T09:42:09.961Z"
   },
   {
    "duration": 9,
    "start_time": "2023-07-17T09:43:21.400Z"
   },
   {
    "duration": 89,
    "start_time": "2023-07-17T09:43:22.743Z"
   },
   {
    "duration": 98,
    "start_time": "2023-07-17T09:44:02.249Z"
   },
   {
    "duration": 1192,
    "start_time": "2023-07-17T09:44:10.373Z"
   },
   {
    "duration": 163,
    "start_time": "2023-07-17T09:44:11.567Z"
   },
   {
    "duration": 12,
    "start_time": "2023-07-17T09:44:11.732Z"
   },
   {
    "duration": 30,
    "start_time": "2023-07-17T09:44:11.747Z"
   },
   {
    "duration": 9,
    "start_time": "2023-07-17T09:44:11.779Z"
   },
   {
    "duration": 24,
    "start_time": "2023-07-17T09:44:11.790Z"
   },
   {
    "duration": 70,
    "start_time": "2023-07-17T09:44:11.816Z"
   },
   {
    "duration": 61,
    "start_time": "2023-07-17T09:44:11.887Z"
   },
   {
    "duration": 34,
    "start_time": "2023-07-17T09:44:11.949Z"
   },
   {
    "duration": 86,
    "start_time": "2023-07-17T09:44:11.986Z"
   },
   {
    "duration": 25,
    "start_time": "2023-07-17T09:44:12.074Z"
   },
   {
    "duration": 14,
    "start_time": "2023-07-17T09:44:12.101Z"
   },
   {
    "duration": 25,
    "start_time": "2023-07-17T09:44:12.116Z"
   },
   {
    "duration": 11,
    "start_time": "2023-07-17T09:44:12.143Z"
   },
   {
    "duration": 1212,
    "start_time": "2023-07-17T09:44:12.156Z"
   },
   {
    "duration": 507,
    "start_time": "2023-07-17T09:44:13.369Z"
   },
   {
    "duration": 31,
    "start_time": "2023-07-17T09:44:13.877Z"
   },
   {
    "duration": 566,
    "start_time": "2023-07-17T09:44:13.909Z"
   },
   {
    "duration": 26,
    "start_time": "2023-07-17T09:44:14.477Z"
   },
   {
    "duration": 5,
    "start_time": "2023-07-17T09:44:14.505Z"
   },
   {
    "duration": 176,
    "start_time": "2023-07-17T09:44:14.512Z"
   },
   {
    "duration": 17,
    "start_time": "2023-07-17T09:44:14.690Z"
   },
   {
    "duration": 285,
    "start_time": "2023-07-17T09:44:14.709Z"
   },
   {
    "duration": 59,
    "start_time": "2023-07-17T09:44:14.996Z"
   },
   {
    "duration": 26,
    "start_time": "2023-07-17T09:44:15.069Z"
   },
   {
    "duration": 39,
    "start_time": "2023-07-17T09:44:15.097Z"
   },
   {
    "duration": 76,
    "start_time": "2023-07-17T09:44:15.138Z"
   },
   {
    "duration": 4,
    "start_time": "2023-07-17T09:44:15.217Z"
   },
   {
    "duration": 12,
    "start_time": "2023-07-17T09:44:15.223Z"
   },
   {
    "duration": 342,
    "start_time": "2023-07-17T09:44:15.237Z"
   },
   {
    "duration": 99,
    "start_time": "2023-07-17T09:44:15.581Z"
   },
   {
    "duration": 31,
    "start_time": "2023-07-17T09:44:15.682Z"
   },
   {
    "duration": 120,
    "start_time": "2023-07-17T09:44:15.769Z"
   },
   {
    "duration": 53,
    "start_time": "2023-07-17T09:44:15.891Z"
   },
   {
    "duration": 28,
    "start_time": "2023-07-17T09:44:15.945Z"
   },
   {
    "duration": 166,
    "start_time": "2023-07-17T09:44:15.974Z"
   },
   {
    "duration": 6,
    "start_time": "2023-07-17T09:44:16.141Z"
   },
   {
    "duration": 45,
    "start_time": "2023-07-17T09:44:16.148Z"
   },
   {
    "duration": 163,
    "start_time": "2023-07-17T09:44:16.194Z"
   },
   {
    "duration": 141,
    "start_time": "2023-07-17T09:53:28.490Z"
   },
   {
    "duration": 4,
    "start_time": "2023-07-17T09:53:46.659Z"
   },
   {
    "duration": 10,
    "start_time": "2023-07-17T09:54:24.145Z"
   },
   {
    "duration": 113,
    "start_time": "2023-07-17T09:54:30.471Z"
   },
   {
    "duration": 28,
    "start_time": "2023-07-17T09:56:05.213Z"
   },
   {
    "duration": 1242,
    "start_time": "2023-07-17T09:56:34.945Z"
   },
   {
    "duration": 157,
    "start_time": "2023-07-17T09:56:36.189Z"
   },
   {
    "duration": 11,
    "start_time": "2023-07-17T09:56:36.347Z"
   },
   {
    "duration": 49,
    "start_time": "2023-07-17T09:56:36.359Z"
   },
   {
    "duration": 33,
    "start_time": "2023-07-17T09:56:36.409Z"
   },
   {
    "duration": 41,
    "start_time": "2023-07-17T09:56:36.443Z"
   },
   {
    "duration": 78,
    "start_time": "2023-07-17T09:56:36.485Z"
   },
   {
    "duration": 62,
    "start_time": "2023-07-17T09:56:36.564Z"
   },
   {
    "duration": 19,
    "start_time": "2023-07-17T09:56:36.628Z"
   },
   {
    "duration": 87,
    "start_time": "2023-07-17T09:56:36.648Z"
   },
   {
    "duration": 9,
    "start_time": "2023-07-17T09:56:36.737Z"
   },
   {
    "duration": 11,
    "start_time": "2023-07-17T09:56:36.747Z"
   },
   {
    "duration": 9,
    "start_time": "2023-07-17T09:56:36.768Z"
   },
   {
    "duration": 19,
    "start_time": "2023-07-17T09:56:36.780Z"
   },
   {
    "duration": 1269,
    "start_time": "2023-07-17T09:56:36.801Z"
   },
   {
    "duration": 509,
    "start_time": "2023-07-17T09:56:38.072Z"
   },
   {
    "duration": 30,
    "start_time": "2023-07-17T09:56:38.582Z"
   },
   {
    "duration": 414,
    "start_time": "2023-07-17T09:56:38.614Z"
   },
   {
    "duration": 23,
    "start_time": "2023-07-17T09:56:39.030Z"
   },
   {
    "duration": 4,
    "start_time": "2023-07-17T09:56:39.068Z"
   },
   {
    "duration": 153,
    "start_time": "2023-07-17T09:56:39.074Z"
   },
   {
    "duration": 16,
    "start_time": "2023-07-17T09:56:39.229Z"
   },
   {
    "duration": 302,
    "start_time": "2023-07-17T09:56:39.246Z"
   },
   {
    "duration": 63,
    "start_time": "2023-07-17T09:56:39.549Z"
   },
   {
    "duration": 23,
    "start_time": "2023-07-17T09:56:39.613Z"
   },
   {
    "duration": 51,
    "start_time": "2023-07-17T09:56:39.637Z"
   },
   {
    "duration": 55,
    "start_time": "2023-07-17T09:56:39.690Z"
   },
   {
    "duration": 22,
    "start_time": "2023-07-17T09:56:39.747Z"
   },
   {
    "duration": 11,
    "start_time": "2023-07-17T09:56:39.771Z"
   },
   {
    "duration": 330,
    "start_time": "2023-07-17T09:56:39.783Z"
   },
   {
    "duration": 76,
    "start_time": "2023-07-17T09:56:40.116Z"
   },
   {
    "duration": 81,
    "start_time": "2023-07-17T09:56:40.193Z"
   },
   {
    "duration": 13,
    "start_time": "2023-07-17T09:56:40.276Z"
   },
   {
    "duration": 211,
    "start_time": "2023-07-17T09:56:40.290Z"
   },
   {
    "duration": 6,
    "start_time": "2023-07-17T09:56:40.503Z"
   },
   {
    "duration": 29,
    "start_time": "2023-07-17T09:56:40.511Z"
   },
   {
    "duration": 171,
    "start_time": "2023-07-17T09:56:40.569Z"
   },
   {
    "duration": 1430,
    "start_time": "2023-07-17T10:57:52.063Z"
   },
   {
    "duration": 171,
    "start_time": "2023-07-17T10:57:53.496Z"
   },
   {
    "duration": 12,
    "start_time": "2023-07-17T10:57:53.669Z"
   },
   {
    "duration": 21,
    "start_time": "2023-07-17T10:57:53.683Z"
   },
   {
    "duration": 8,
    "start_time": "2023-07-17T10:57:53.706Z"
   },
   {
    "duration": 16,
    "start_time": "2023-07-17T10:57:53.716Z"
   },
   {
    "duration": 105,
    "start_time": "2023-07-17T10:57:53.734Z"
   },
   {
    "duration": 91,
    "start_time": "2023-07-17T10:57:53.841Z"
   },
   {
    "duration": 38,
    "start_time": "2023-07-17T10:57:53.934Z"
   },
   {
    "duration": 114,
    "start_time": "2023-07-17T10:57:53.975Z"
   },
   {
    "duration": 18,
    "start_time": "2023-07-17T10:57:54.091Z"
   },
   {
    "duration": 6,
    "start_time": "2023-07-17T10:57:54.111Z"
   },
   {
    "duration": 13,
    "start_time": "2023-07-17T10:57:54.119Z"
   },
   {
    "duration": 37,
    "start_time": "2023-07-17T10:57:54.136Z"
   },
   {
    "duration": 1501,
    "start_time": "2023-07-17T10:57:54.176Z"
   },
   {
    "duration": 595,
    "start_time": "2023-07-17T10:57:55.679Z"
   },
   {
    "duration": 31,
    "start_time": "2023-07-17T10:57:56.277Z"
   },
   {
    "duration": 509,
    "start_time": "2023-07-17T10:57:56.310Z"
   },
   {
    "duration": 28,
    "start_time": "2023-07-17T10:57:56.821Z"
   },
   {
    "duration": 5,
    "start_time": "2023-07-17T10:57:56.867Z"
   },
   {
    "duration": 183,
    "start_time": "2023-07-17T10:57:56.874Z"
   },
   {
    "duration": 23,
    "start_time": "2023-07-17T10:57:57.059Z"
   },
   {
    "duration": 344,
    "start_time": "2023-07-17T10:57:57.083Z"
   },
   {
    "duration": 102,
    "start_time": "2023-07-17T10:57:57.430Z"
   },
   {
    "duration": 33,
    "start_time": "2023-07-17T10:57:57.534Z"
   },
   {
    "duration": 42,
    "start_time": "2023-07-17T10:57:57.569Z"
   },
   {
    "duration": 77,
    "start_time": "2023-07-17T10:57:57.613Z"
   },
   {
    "duration": 5,
    "start_time": "2023-07-17T10:57:57.692Z"
   },
   {
    "duration": 18,
    "start_time": "2023-07-17T10:57:57.699Z"
   },
   {
    "duration": 560,
    "start_time": "2023-07-17T10:57:57.719Z"
   },
   {
    "duration": 110,
    "start_time": "2023-07-17T10:57:58.282Z"
   },
   {
    "duration": 35,
    "start_time": "2023-07-17T10:57:58.394Z"
   },
   {
    "duration": 13,
    "start_time": "2023-07-17T10:57:58.468Z"
   },
   {
    "duration": 227,
    "start_time": "2023-07-17T10:57:58.483Z"
   },
   {
    "duration": 6,
    "start_time": "2023-07-17T10:57:58.712Z"
   },
   {
    "duration": 54,
    "start_time": "2023-07-17T10:57:58.720Z"
   },
   {
    "duration": 211,
    "start_time": "2023-07-17T10:57:58.776Z"
   },
   {
    "duration": 63,
    "start_time": "2023-07-17T11:09:12.864Z"
   },
   {
    "duration": 5,
    "start_time": "2023-07-17T11:09:13.201Z"
   },
   {
    "duration": 9,
    "start_time": "2023-07-17T11:09:13.686Z"
   },
   {
    "duration": 9,
    "start_time": "2023-07-17T11:13:44.716Z"
   },
   {
    "duration": 266,
    "start_time": "2023-07-17T11:13:48.577Z"
   },
   {
    "duration": 3,
    "start_time": "2023-07-17T11:14:55.700Z"
   },
   {
    "duration": 167,
    "start_time": "2023-07-17T11:14:56.158Z"
   },
   {
    "duration": 12,
    "start_time": "2023-07-17T11:14:56.374Z"
   },
   {
    "duration": 21,
    "start_time": "2023-07-17T11:14:56.654Z"
   },
   {
    "duration": 10,
    "start_time": "2023-07-17T11:14:57.082Z"
   },
   {
    "duration": 11,
    "start_time": "2023-07-17T11:14:57.397Z"
   },
   {
    "duration": 62,
    "start_time": "2023-07-17T11:14:57.549Z"
   },
   {
    "duration": 67,
    "start_time": "2023-07-17T11:14:57.878Z"
   },
   {
    "duration": 23,
    "start_time": "2023-07-17T11:14:58.158Z"
   },
   {
    "duration": 76,
    "start_time": "2023-07-17T11:14:58.768Z"
   },
   {
    "duration": 10,
    "start_time": "2023-07-17T11:14:59.058Z"
   },
   {
    "duration": 5,
    "start_time": "2023-07-17T11:15:00.390Z"
   },
   {
    "duration": 7,
    "start_time": "2023-07-17T11:15:00.699Z"
   },
   {
    "duration": 12,
    "start_time": "2023-07-17T11:15:01.163Z"
   },
   {
    "duration": 1628,
    "start_time": "2023-07-17T11:15:02.070Z"
   },
   {
    "duration": 517,
    "start_time": "2023-07-17T11:15:03.700Z"
   },
   {
    "duration": 30,
    "start_time": "2023-07-17T11:15:04.486Z"
   },
   {
    "duration": 455,
    "start_time": "2023-07-17T11:15:05.450Z"
   },
   {
    "duration": 35,
    "start_time": "2023-07-17T11:15:06.463Z"
   },
   {
    "duration": 5,
    "start_time": "2023-07-17T11:15:06.914Z"
   },
   {
    "duration": 190,
    "start_time": "2023-07-17T11:15:09.162Z"
   },
   {
    "duration": 20,
    "start_time": "2023-07-17T11:15:11.959Z"
   },
   {
    "duration": 223,
    "start_time": "2023-07-17T11:15:12.299Z"
   },
   {
    "duration": 64,
    "start_time": "2023-07-17T11:15:13.222Z"
   },
   {
    "duration": 31,
    "start_time": "2023-07-17T11:15:14.098Z"
   },
   {
    "duration": 40,
    "start_time": "2023-07-17T11:15:14.366Z"
   },
   {
    "duration": 59,
    "start_time": "2023-07-17T11:15:15.390Z"
   },
   {
    "duration": 4,
    "start_time": "2023-07-17T11:15:15.524Z"
   },
   {
    "duration": 8,
    "start_time": "2023-07-17T11:15:15.719Z"
   },
   {
    "duration": 44,
    "start_time": "2023-07-17T11:15:16.428Z"
   },
   {
    "duration": 37,
    "start_time": "2023-07-17T11:15:18.162Z"
   },
   {
    "duration": 28,
    "start_time": "2023-07-17T11:15:20.031Z"
   },
   {
    "duration": 10,
    "start_time": "2023-07-17T11:15:27.167Z"
   },
   {
    "duration": 116,
    "start_time": "2023-07-17T11:15:28.712Z"
   },
   {
    "duration": 182,
    "start_time": "2023-07-17T11:20:14.858Z"
   },
   {
    "duration": 1216,
    "start_time": "2023-07-17T11:21:25.979Z"
   },
   {
    "duration": 165,
    "start_time": "2023-07-17T11:21:27.197Z"
   },
   {
    "duration": 12,
    "start_time": "2023-07-17T11:21:27.363Z"
   },
   {
    "duration": 22,
    "start_time": "2023-07-17T11:21:27.376Z"
   },
   {
    "duration": 12,
    "start_time": "2023-07-17T11:21:27.401Z"
   },
   {
    "duration": 30,
    "start_time": "2023-07-17T11:21:27.414Z"
   },
   {
    "duration": 75,
    "start_time": "2023-07-17T11:21:27.446Z"
   },
   {
    "duration": 80,
    "start_time": "2023-07-17T11:21:27.523Z"
   },
   {
    "duration": 22,
    "start_time": "2023-07-17T11:21:27.605Z"
   },
   {
    "duration": 91,
    "start_time": "2023-07-17T11:21:27.629Z"
   },
   {
    "duration": 8,
    "start_time": "2023-07-17T11:21:27.722Z"
   },
   {
    "duration": 7,
    "start_time": "2023-07-17T11:21:27.732Z"
   },
   {
    "duration": 35,
    "start_time": "2023-07-17T11:21:27.741Z"
   },
   {
    "duration": 10,
    "start_time": "2023-07-17T11:21:27.780Z"
   },
   {
    "duration": 1298,
    "start_time": "2023-07-17T11:21:27.792Z"
   },
   {
    "duration": 500,
    "start_time": "2023-07-17T11:21:29.092Z"
   },
   {
    "duration": 30,
    "start_time": "2023-07-17T11:21:29.594Z"
   },
   {
    "duration": 442,
    "start_time": "2023-07-17T11:21:29.626Z"
   },
   {
    "duration": 29,
    "start_time": "2023-07-17T11:21:30.070Z"
   },
   {
    "duration": 16,
    "start_time": "2023-07-17T11:21:30.101Z"
   },
   {
    "duration": 179,
    "start_time": "2023-07-17T11:21:30.119Z"
   },
   {
    "duration": 17,
    "start_time": "2023-07-17T11:21:30.300Z"
   },
   {
    "duration": 309,
    "start_time": "2023-07-17T11:21:30.319Z"
   },
   {
    "duration": 68,
    "start_time": "2023-07-17T11:21:30.629Z"
   },
   {
    "duration": 22,
    "start_time": "2023-07-17T11:21:30.699Z"
   },
   {
    "duration": 94,
    "start_time": "2023-07-17T11:21:30.723Z"
   },
   {
    "duration": 18,
    "start_time": "2023-07-17T11:21:30.819Z"
   },
   {
    "duration": 84,
    "start_time": "2023-07-17T11:21:30.839Z"
   },
   {
    "duration": 421,
    "start_time": "2023-07-17T11:21:30.925Z"
   },
   {
    "duration": 45,
    "start_time": "2023-07-17T11:21:31.347Z"
   },
   {
    "duration": 84,
    "start_time": "2023-07-17T11:21:31.394Z"
   },
   {
    "duration": 8,
    "start_time": "2023-07-17T11:21:31.480Z"
   },
   {
    "duration": 234,
    "start_time": "2023-07-17T11:21:31.490Z"
   },
   {
    "duration": 6,
    "start_time": "2023-07-17T11:21:31.726Z"
   },
   {
    "duration": 48,
    "start_time": "2023-07-17T11:21:31.733Z"
   },
   {
    "duration": 188,
    "start_time": "2023-07-17T11:21:31.783Z"
   },
   {
    "duration": 1301,
    "start_time": "2023-07-20T18:07:46.495Z"
   },
   {
    "duration": 736,
    "start_time": "2023-07-20T18:07:47.797Z"
   },
   {
    "duration": 11,
    "start_time": "2023-07-20T18:07:48.535Z"
   },
   {
    "duration": 18,
    "start_time": "2023-07-20T18:07:48.547Z"
   },
   {
    "duration": 6,
    "start_time": "2023-07-20T18:07:48.566Z"
   },
   {
    "duration": 14,
    "start_time": "2023-07-20T18:07:48.574Z"
   },
   {
    "duration": 69,
    "start_time": "2023-07-20T18:07:48.590Z"
   },
   {
    "duration": 64,
    "start_time": "2023-07-20T18:07:48.661Z"
   },
   {
    "duration": 16,
    "start_time": "2023-07-20T18:07:48.726Z"
   },
   {
    "duration": 75,
    "start_time": "2023-07-20T18:07:48.743Z"
   },
   {
    "duration": 8,
    "start_time": "2023-07-20T18:07:48.819Z"
   },
   {
    "duration": 5,
    "start_time": "2023-07-20T18:07:48.829Z"
   },
   {
    "duration": 8,
    "start_time": "2023-07-20T18:07:48.835Z"
   },
   {
    "duration": 16,
    "start_time": "2023-07-20T18:07:48.845Z"
   },
   {
    "duration": 1084,
    "start_time": "2023-07-20T18:07:48.863Z"
   },
   {
    "duration": 469,
    "start_time": "2023-07-20T18:07:49.948Z"
   },
   {
    "duration": 27,
    "start_time": "2023-07-20T18:07:50.418Z"
   },
   {
    "duration": 377,
    "start_time": "2023-07-20T18:07:50.447Z"
   },
   {
    "duration": 19,
    "start_time": "2023-07-20T18:07:50.825Z"
   },
   {
    "duration": 17,
    "start_time": "2023-07-20T18:07:50.846Z"
   },
   {
    "duration": 134,
    "start_time": "2023-07-20T18:07:50.864Z"
   },
   {
    "duration": 17,
    "start_time": "2023-07-20T18:07:50.999Z"
   },
   {
    "duration": 250,
    "start_time": "2023-07-20T18:07:51.018Z"
   },
   {
    "duration": 60,
    "start_time": "2023-07-20T18:07:51.269Z"
   },
   {
    "duration": 21,
    "start_time": "2023-07-20T18:07:51.330Z"
   },
   {
    "duration": 62,
    "start_time": "2023-07-20T18:07:51.352Z"
   },
   {
    "duration": 3,
    "start_time": "2023-07-20T18:07:51.416Z"
   },
   {
    "duration": 10,
    "start_time": "2023-07-20T18:07:51.421Z"
   },
   {
    "duration": 353,
    "start_time": "2023-07-20T18:07:51.433Z"
   },
   {
    "duration": 36,
    "start_time": "2023-07-20T18:07:51.787Z"
   },
   {
    "duration": 26,
    "start_time": "2023-07-20T18:07:51.824Z"
   },
   {
    "duration": 55,
    "start_time": "2023-07-20T18:07:51.852Z"
   },
   {
    "duration": 154,
    "start_time": "2023-07-20T18:07:51.908Z"
   },
   {
    "duration": 5,
    "start_time": "2023-07-20T18:07:52.063Z"
   },
   {
    "duration": 43,
    "start_time": "2023-07-20T18:07:52.069Z"
   },
   {
    "duration": 159,
    "start_time": "2023-07-20T18:07:52.113Z"
   }
  ],
  "kernelspec": {
   "display_name": "Python 3 (ipykernel)",
   "language": "python",
   "name": "python3"
  },
  "language_info": {
   "codemirror_mode": {
    "name": "ipython",
    "version": 3
   },
   "file_extension": ".py",
   "mimetype": "text/x-python",
   "name": "python",
   "nbconvert_exporter": "python",
   "pygments_lexer": "ipython3",
   "version": "3.9.13"
  },
  "toc": {
   "base_numbering": 1,
   "nav_menu": {},
   "number_sections": true,
   "sideBar": true,
   "skip_h1_title": true,
   "title_cell": "Table of Contents",
   "title_sidebar": "Contents",
   "toc_cell": false,
   "toc_position": {},
   "toc_section_display": true,
   "toc_window_display": false
  }
 },
 "nbformat": 4,
 "nbformat_minor": 2
}
